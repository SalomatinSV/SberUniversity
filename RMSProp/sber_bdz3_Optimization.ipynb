{
 "cells": [
  {
   "cell_type": "markdown",
   "metadata": {
    "id": "kwXU7hVIpOA0"
   },
   "source": [
    "# Домашняя работа 3\n",
    "## Математическая оптимизация\n",
    "\n",
    "В этом домашнем задании вам предстоит найти минимум функции используя метод `RMSProp`."
   ]
  },
  {
   "cell_type": "markdown",
   "metadata": {
    "id": "xZgZLxjyp2r-"
   },
   "source": [
    "### Вам дана функция $y(x) = x^{3} \\ln(x)$\n",
    "\n",
    "1. Выпишите вид производной этой функции ($y'(x)$). (можно сделать это в виде latex кода, добавления картинки или записью кода python)\n",
    "\n",
    "    $y'(x) = 3x^{2} * ln(x) + x^{2} $"
   ]
  },
  {
   "cell_type": "markdown",
   "metadata": {
    "id": "Dkx3W3birlf_"
   },
   "source": [
    "2. Реализуйте функцию `dy(...)` в ячейке ниже, которая на вход принимает $x_0$, а на выходе возвращает значение производной функции $y(x)$ в точке $x_0$ (то есть $y'(x_0)$)."
   ]
  },
  {
   "cell_type": "code",
   "execution_count": null,
   "metadata": {
    "id": "k6TpKW2P41LV"
   },
   "outputs": [],
   "source": [
    "import math\n",
    "import numpy as np\n",
    "def dyf(x0):\n",
    "    return 3*x0**2 * math.log(x0) + x0**3 / x0"
   ]
  },
  {
   "cell_type": "markdown",
   "metadata": {
    "id": "ePFJ_r-k8iav"
   },
   "source": [
    "Реализуем функцию для расчета производной любой функции f(x) методом конечных разностей."
   ]
  },
  {
   "cell_type": "code",
   "execution_count": null,
   "metadata": {
    "id": "Laaw8J2mpzYG"
   },
   "outputs": [],
   "source": [
    "def y(x):\n",
    "    return x**3 * math.log(x)\n",
    "\n",
    "def dy(x , dx=1e-6):\n",
    "    return  (y(x + dx) - y(x - dx)) / (2 * dx)"
   ]
  },
  {
   "cell_type": "code",
   "execution_count": null,
   "metadata": {
    "colab": {
     "base_uri": "https://localhost:8080/"
    },
    "id": "xRhh9XxurvYf",
    "outputId": "e5bb1a3c-50b3-403c-9d84-4667d8c1aec4"
   },
   "outputs": [
    {
     "name": "stdout",
     "output_type": "stream",
     "text": [
      "38.66253179403897\n",
      "38.662531800071065\n"
     ]
    }
   ],
   "source": [
    "print(dyf(3), dy(3), sep  =\"\\n\")"
   ]
  },
  {
   "cell_type": "markdown",
   "metadata": {
    "id": "jr4sqAR3ryLb"
   },
   "source": [
    "3. Реализуйте функцию `get_min_with_gd(...)`, которая принимает на вход начальную точку $x_0$, число шагов, lr и thershold; внутри себя производит поиск минимума при помощи градиентного спуска и возвращает последовательность точек, полученных на каждом шаге."
   ]
  },
  {
   "cell_type": "code",
   "execution_count": null,
   "metadata": {
    "id": "l8ls4dWrsD5o"
   },
   "outputs": [],
   "source": [
    "def get_min_with_gd(x0, dx=0.01, n=100, threshold=1e-6):\n",
    "\n",
    "    points = [x0]  # добавляем начальную точку в список точек\n",
    "    x = x0\n",
    "    for i in range(n):\n",
    "\n",
    "        # Обновляем значение x в направлении антиградиента\n",
    "        x = x - dx * dy(x)\n",
    "\n",
    "        # Добавляем новую точку в список точек\n",
    "        points.append(x)\n",
    "\n",
    "        # Проверяем, достигнуто ли пороговое значение изменения функции между шагами\n",
    "        if abs(y(points[-1]) - y(points[-2])) < threshold:\n",
    "            break\n",
    "\n",
    "    return points"
   ]
  },
  {
   "cell_type": "code",
   "execution_count": null,
   "metadata": {
    "id": "CVtHzyFMsW4J"
   },
   "outputs": [],
   "source": [
    "# Запустите поиск минимума с любой точки, например с точки 10\n",
    "\n",
    "history = get_min_with_gd(10)"
   ]
  },
  {
   "cell_type": "code",
   "execution_count": null,
   "metadata": {
    "colab": {
     "base_uri": "https://localhost:8080/"
    },
    "id": "RqmWnlk4x1I0",
    "outputId": "2ddcb6de-ee8e-485a-d7e3-0b2e2402027b"
   },
   "outputs": [
    {
     "name": "stdout",
     "output_type": "stream",
     "text": [
      "101\n",
      "0.7570326551251312\n"
     ]
    }
   ],
   "source": [
    "print(\n",
    "    len(history), \n",
    "    history[-1],\n",
    "     sep = \"\\n\"\n",
    "     )"
   ]
  },
  {
   "cell_type": "markdown",
   "metadata": {
    "id": "JfVX0r9PsJEy"
   },
   "source": [
    "4. Проверьте, что все работает ожидаемым образом, запустив ячейку ниже"
   ]
  },
  {
   "cell_type": "code",
   "execution_count": null,
   "metadata": {
    "colab": {
     "base_uri": "https://localhost:8080/",
     "height": 502
    },
    "id": "RCt9VpeFsPHU",
    "outputId": "c98b0cb2-89ad-4942-d21e-efefb9cbd61d"
   },
   "outputs": [
    {
     "data": {
      "image/png": "[encoded data removed]",
      "text/plain": [
       "<Figure size 1080x576 with 1 Axes>"
      ]
     },
     "metadata": {},
     "output_type": "display_data"
    }
   ],
   "source": [
    "import matplotlib.pyplot as plt\n",
    "import seaborn as sns\n",
    "\n",
    "sns.set()\n",
    "\n",
    "plt.figure(figsize=(15, 8), facecolor = \"white\")\n",
    "\n",
    "# Отрисуем то, как менялись координаты в процессе поиска минимума\n",
    "plt.plot(history)\n",
    "\n",
    "plt.xlabel('Номер итерации')\n",
    "plt.ylabel('Значение аргумента на итерации')\n",
    "plt.show()"
   ]
  },
  {
   "cell_type": "markdown",
   "metadata": {
    "id": "1Amo1vgzs8IJ"
   },
   "source": [
    "5. Реализовать поиск минимума при помощи алгоритма `RMSProp`. Реализуйте функцию `get_min_with_rmsprop(...)`, которая принимает на вход начальную точку $x_0$, число шагов, lr, $β$ и thershold; внутри себя производит поиск минимума при помощи градиентного спуска и возвращает последовательность точек, полученных на каждом шаге.\n",
    "\n",
    "Напомним как выглядят формулы для этого алгоритма:\n",
    "\n",
    "$$g^{n+1} = ∇f(w^{n})$$\n",
    "$$\\gamma^{n+1} = (1 - \\beta) \\gamma^{n} + \\beta (g^{n+1}) ^ 2$$\n",
    "$$w^{n+1} = w^n - \\frac{\\alpha}{\\sqrt{\\gamma^{n+1} + ɛ}}⋅g^{n+1}$$\n",
    "\n",
    "Здесь $α$ -- learning rate, $ɛ$ -- малое число (можно взять 0.0001 -- оно нужно, чтобы случайно не было деления на 0), $\\beta$ -- мера учета инерции"
   ]
  },
  {
   "cell_type": "code",
   "execution_count": null,
   "metadata": {
    "id": "a-xtle1TvIud"
   },
   "outputs": [],
   "source": [
    "def get_min_with_rmsprop(x0, alpha=0.001, beta=0.9, n=15000, threshold=1e-6, eps=0.0001):\n",
    "\n",
    "    points = [x0]  # добавляем начальную точку в список точек\n",
    "    x = x0\n",
    "    g = 0\n",
    "    for i in range(n):\n",
    "\n",
    "      # Вычисляем градиент с использованием алгоритма RMSProp и обновляем гамму\n",
    "      grad = dy(points[-1])\n",
    "      g =  (1 - beta) * g + beta * grad**2\n",
    "\n",
    "      # Обновляем значение x в направлении антиградиента\n",
    "      x = points[-1] - alpha / np.sqrt(g + eps) * grad\n",
    "\n",
    "      # Добавляем новую точку в список точек\n",
    "      points.append(x)\n",
    "\n",
    "      # Проверяем, достигнуто ли пороговое значение изменения функции между шагами\n",
    "      if abs(y(points[-1]) - y(points[-2])) < threshold:\n",
    "        break\n",
    "\n",
    "    return points"
   ]
  },
  {
   "cell_type": "code",
   "execution_count": null,
   "metadata": {
    "id": "3jKHYm8Pvm38"
   },
   "outputs": [],
   "source": [
    "# Запустите поиск минимума с нескольких точек, например с 0 и 2\n",
    "### Логарифм от 0 считается довольно плоховато, так что обойдемся без этого примера))0\n",
    "history_rmsprop_1 = get_min_with_rmsprop(4)\n",
    "history_rmsprop_2 = get_min_with_rmsprop(10)\n",
    "history_rmsprop_n100 = get_min_with_rmsprop(10, n = 100)"
   ]
  },
  {
   "cell_type": "markdown",
   "metadata": {
    "id": "ZMuyKAdDvd9Z"
   },
   "source": [
    "6. Нарисовать график, на котором отображен реальный минимум функции и все точки, которые были получены на каждом шаге RMSProp алгоритма."
   ]
  },
  {
   "cell_type": "code",
   "execution_count": null,
   "metadata": {
    "id": "IUN2BTGaoeYi"
   },
   "outputs": [],
   "source": [
    "#Получим значения самой функции\n",
    "x_vals = np.arange(0.1, 14, 0.01)\n",
    "y_vals = np.array([y(x) for x in x_vals])"
   ]
  },
  {
   "cell_type": "code",
   "execution_count": null,
   "metadata": {
    "colab": {
     "base_uri": "https://localhost:8080/"
    },
    "id": "BcngXi9I0l6T",
    "outputId": "df7e4412-7e1f-4241-8af5-c78999d8a909"
   },
   "outputs": [
    {
     "name": "stdout",
     "output_type": "stream",
     "text": [
      "-0.04978706836786395\n"
     ]
    }
   ],
   "source": [
    "print(y(1/np.e))"
   ]
  },
  {
   "cell_type": "code",
   "execution_count": null,
   "metadata": {
    "colab": {
     "base_uri": "https://localhost:8080/",
     "height": 489
    },
    "id": "2jq5RZbVv5E0",
    "outputId": "96f72572-e77d-452d-c72f-424bd440b539"
   },
   "outputs": [
    {
     "data": {
      "image/png": "[encoded data removed]",
      "text/plain": [
       "<Figure size 1152x576 with 2 Axes>"
      ]
     },
     "metadata": {},
     "output_type": "display_data"
    }
   ],
   "source": [
    "fig, ax = plt.subplots(ncols=2, figsize=(16, 8))\n",
    "\n",
    "ax[0].plot(x_vals, y_vals, label='y(x)')\n",
    "ax[0].scatter(history_rmsprop_1, [y(x) for x in history_rmsprop_1], color='red', label='RMSProp точки для первого примера')\n",
    "ax[0].scatter([1/np.e], [y(1/np.e)], color='green', label='Реальный минимум')\n",
    "ax[0].axis(xmin=0.0, xmax=4.2, ymax = 100, ymin = -4)\n",
    "ax[0].legend()\n",
    "\n",
    "ax[1].plot(x_vals, y_vals, label='y(x)')\n",
    "ax[1].scatter(history_rmsprop_2, [y(x) for x in history_rmsprop_2], color='yellow', label='RMSProp точки для второго примера')\n",
    "ax[1].scatter([1/np.e], [y(1/np.e)], color='green', label='Реальный минимум')\n",
    "ax[1].legend()\n",
    "\n",
    "plt.show()"
   ]
  },
  {
   "cell_type": "code",
   "execution_count": null,
   "metadata": {
    "colab": {
     "base_uri": "https://localhost:8080/"
    },
    "id": "cTZljUTRyrjD",
    "outputId": "ba3e4e90-814b-4b10-bc86-485dbede436f"
   },
   "outputs": [
    {
     "name": "stdout",
     "output_type": "stream",
     "text": [
      "Последняя точка в бычном градиентном спуске: 0.7570326551251312\n",
      "Последняя точка в RMSProp: 9.899942941375393\n",
      "Последняя точка RMSProp при alpha = 0.5, n = 100000: 0.31062728571937726\n"
     ]
    }
   ],
   "source": [
    "print(f'Последняя точка в бычном градиентном спуске: {history[-1]}\\nПоследняя точка в RMSProp: {history_rmsprop_n100[-1]}')\n",
    "print(f'Последняя точка RMSProp при alpha = 0.5, n = 100000: {get_min_with_rmsprop(10, alpha = 0.5, n = 100000)[-1]}')"
   ]
  },
  {
   "cell_type": "markdown",
   "metadata": {
    "id": "fYx8dJ0Hzibu"
   },
   "source": [
    "Вывод:\n",
    "\n",
    "Сходимость нашей функции при одинаковом шаге и числе итераций в RMSProp хуже, чем в обычном градиентном спуске. Cкорее всего это обусловлено тем, что функция очень простая и в соответствии с алгоритмом, сходимость замедляется."
   ]
  }
 ],
 "metadata": {
  "colab": {
   "provenance": []
  },
  "kernelspec": {
   "display_name": "Python 3 (ipykernel)",
   "language": "python",
   "name": "python3"
  },
  "language_info": {
   "codemirror_mode": {
    "name": "ipython",
    "version": 3
   },
   "file_extension": ".py",
   "mimetype": "text/x-python",
   "name": "python",
   "nbconvert_exporter": "python",
   "pygments_lexer": "ipython3",
   "version": "3.8.6"
  },
  "nbTranslate": {
   "displayLangs": [
    "*"
   ],
   "hotkey": "alt-t",
   "langInMainMenu": true,
   "sourceLang": "en",
   "targetLang": "fr",
   "useGoogleTranslate": true
  },
  "varInspector": {
   "cols": {
    "lenName": 16,
    "lenType": 16,
    "lenVar": 40
   },
   "kernels_config": {
    "python": {
     "delete_cmd_postfix": "",
     "delete_cmd_prefix": "del ",
     "library": "var_list.py",
     "varRefreshCmd": "print(var_dic_list())"
    },
    "r": {
     "delete_cmd_postfix": ") ",
     "delete_cmd_prefix": "rm(",
     "library": "var_list.r",
     "varRefreshCmd": "cat(var_dic_list()) "
    }
   },
   "types_to_exclude": [
    "module",
    "function",
    "builtin_function_or_method",
    "instance",
    "_Feature"
   ],
   "window_display": false
  }
 },
 "nbformat": 4,
 "nbformat_minor": 1
}
