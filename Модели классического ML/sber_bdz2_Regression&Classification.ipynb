{
  "nbformat": 4,
  "nbformat_minor": 0,
  "metadata": {
    "colab": {
      "provenance": []
    },
    "kernelspec": {
      "name": "python3",
      "display_name": "Python 3"
    },
    "language_info": {
      "name": "python"
    }
  },
  "cells": [
    {
      "cell_type": "markdown",
      "source": [
        "# Домашняя работа 2"
      ],
      "metadata": {
        "id": "jyJswrIfpbmA"
      }
    },
    {
      "cell_type": "markdown",
      "source": [
        "## Регрессия"
      ],
      "metadata": {
        "id": "r_lVVaJl2Ncb"
      }
    },
    {
      "cell_type": "markdown",
      "source": [
        "С 1ого октября отменяется НДС на бриллианты, теперь они становятся новым инвестиционным инструментом. Давайте сделаем модель ценообразования для них.\n",
        "\n",
        "Скачайте датасет diamonds.csv\n",
        "\n",
        "В нем представлены характеристики бриллиантов и их цены с сайта jamesallen (B2C площадка) с 2022-07-01\n",
        "\n",
        "**Описание полей**\n",
        "\n",
        "\n",
        "* fluor - флуорисценуия (свойство камня светиться в лучах ультр)\n",
        "* symmetry - показатель симметричности\n",
        "* platform - название платформы, где был размещен камень\n",
        "* quality_group - составной показатель из cut polish symmetry\n",
        "* size_group - каратно весовая группа\n",
        "* big_size_group - каратно-весовая группа\n",
        "* shape - форма\n",
        "* color - цвет\n",
        "* clarity - чистота\n",
        "* cut - качество огранки (может быть только у круглых камней)\n",
        "* polish - полировка\n",
        "* id - номер камня\n",
        "* date - дата\n",
        "* price - цена\n",
        "* carat - кол-во карат\n",
        "* tablepercent - размер площадки по отношению ширине\n",
        "* price_per_carat - цена за карат\n",
        "* z - длина (diameter)\n",
        "* x - ширина\n",
        "* depth_perc - отношение высоты к ширине\n",
        "* y - высота\n",
        "\n"
      ],
      "metadata": {
        "id": "3pECYqXD2VjG"
      }
    },
    {
      "cell_type": "code",
      "source": [
        "import pandas as pd\n",
        "import numpy as np"
      ],
      "metadata": {
        "id": "iOnp-6t565z8"
      },
      "execution_count": null,
      "outputs": []
    },
    {
      "cell_type": "code",
      "source": [
        "from google.colab import drive\n",
        "drive.mount('/content/drive')\n",
        "\n",
        "path = '/content/drive/MyDrive/'"
      ],
      "metadata": {
        "colab": {
          "base_uri": "https://localhost:8080/"
        },
        "id": "C4f2-y_7bfv8",
        "outputId": "3196e39d-ee32-4430-ae76-2e6ec9218e22"
      },
      "execution_count": null,
      "outputs": [
        {
          "output_type": "stream",
          "name": "stdout",
          "text": [
            "Mounted at /content/drive\n"
          ]
        }
      ]
    },
    {
      "cell_type": "code",
      "source": [
        "df = pd.read_csv(path + 'diamonds.csv', index_col=0)"
      ],
      "metadata": {
        "id": "iG7MP6VZ2UZN"
      },
      "execution_count": null,
      "outputs": []
    },
    {
      "cell_type": "code",
      "source": [
        "df"
      ],
      "metadata": {
        "colab": {
          "base_uri": "https://localhost:8080/",
          "height": 423
        },
        "id": "qAz7PWTcLBsV",
        "outputId": "21661f10-dadb-427e-ac7d-ae7d3eaf1171"
      },
      "execution_count": null,
      "outputs": [
        {
          "output_type": "execute_result",
          "data": {
            "text/plain": [
              "       fluor symmetry    platform shape color clarity  cut polish        id  \\\n",
              "135269  NONE       EX  jamesallen    PS     F     SI1  NaN     EX  13870838   \n",
              "48477    MED       EX  jamesallen    RD     H    VVS2   EX     EX  11725253   \n",
              "236786  NONE       EX  jamesallen    EM     H      IF  NaN     EX  14444347   \n",
              "235781  NONE       EX  jamesallen    RD     E     VS2   EX     EX  14438434   \n",
              "277744  NONE       VG  jamesallen    RD     F     VS1   VG     EX  14615276   \n",
              "...      ...      ...         ...   ...   ...     ...  ...    ...       ...   \n",
              "20595   NONE       EX  jamesallen    RD     D     VS2   EX     EX   7535786   \n",
              "282754  NONE       EX  jamesallen    RD     D     VS2   EX     EX  14631732   \n",
              "141550  NONE       EX  jamesallen    RD     J     SI2   EX     EX  13932645   \n",
              "71237    STG       EX  jamesallen    RD     G     VS1   EX     EX  12699310   \n",
              "310690  NONE       EX  jamesallen    RD     I    VVS2   EX     EX  14734535   \n",
              "\n",
              "          date    price  carat  price_per_carat      z     x  depth_perc  \\\n",
              "135269  202206  12850.0   1.55          8290.32  10.29  6.41        62.0   \n",
              "48477   202207   7510.0   1.02          7362.75   6.41  6.45        62.5   \n",
              "236786  202205  21220.0   2.01         10557.21   8.60  6.37        65.0   \n",
              "235781  202207   8660.0   1.00          8660.00   6.39  6.44        61.4   \n",
              "277744  202206   8480.0   1.00          8480.00   6.28  6.36        62.3   \n",
              "...        ...      ...    ...              ...    ...   ...         ...   \n",
              "20595   202207   8700.0   0.97          8969.07   6.36  6.32        62.2   \n",
              "282754  202206   6650.0   0.90          7388.89   6.13  6.18        61.7   \n",
              "141550  202205  11570.0   1.52          7611.84   7.36  7.39        61.0   \n",
              "71237   202207   8220.0   1.09          7541.28   6.55  6.60        62.0   \n",
              "310690  202206  14030.0   1.50          9353.33   7.41  7.44        59.9   \n",
              "\n",
              "              y  \n",
              "135269  3.97420  \n",
              "48477   4.03125  \n",
              "236786  4.14050  \n",
              "235781  3.95416  \n",
              "277744  3.96228  \n",
              "...         ...  \n",
              "20595   3.93104  \n",
              "282754  3.81306  \n",
              "141550  4.50790  \n",
              "71237   4.09200  \n",
              "310690  4.45656  \n",
              "\n",
              "[222222 rows x 17 columns]"
            ],
            "text/html": [
              "\n",
              "  <div id=\"df-1c370a29-5f38-4a20-befa-68eb0ec44575\">\n",
              "    <div class=\"colab-df-container\">\n",
              "      <div>\n",
              "<style scoped>\n",
              "    .dataframe tbody tr th:only-of-type {\n",
              "        vertical-align: middle;\n",
              "    }\n",
              "\n",
              "    .dataframe tbody tr th {\n",
              "        vertical-align: top;\n",
              "    }\n",
              "\n",
              "    .dataframe thead th {\n",
              "        text-align: right;\n",
              "    }\n",
              "</style>\n",
              "<table border=\"1\" class=\"dataframe\">\n",
              "  <thead>\n",
              "    <tr style=\"text-align: right;\">\n",
              "      <th></th>\n",
              "      <th>fluor</th>\n",
              "      <th>symmetry</th>\n",
              "      <th>platform</th>\n",
              "      <th>shape</th>\n",
              "      <th>color</th>\n",
              "      <th>clarity</th>\n",
              "      <th>cut</th>\n",
              "      <th>polish</th>\n",
              "      <th>id</th>\n",
              "      <th>date</th>\n",
              "      <th>price</th>\n",
              "      <th>carat</th>\n",
              "      <th>price_per_carat</th>\n",
              "      <th>z</th>\n",
              "      <th>x</th>\n",
              "      <th>depth_perc</th>\n",
              "      <th>y</th>\n",
              "    </tr>\n",
              "  </thead>\n",
              "  <tbody>\n",
              "    <tr>\n",
              "      <th>135269</th>\n",
              "      <td>NONE</td>\n",
              "      <td>EX</td>\n",
              "      <td>jamesallen</td>\n",
              "      <td>PS</td>\n",
              "      <td>F</td>\n",
              "      <td>SI1</td>\n",
              "      <td>NaN</td>\n",
              "      <td>EX</td>\n",
              "      <td>13870838</td>\n",
              "      <td>202206</td>\n",
              "      <td>12850.0</td>\n",
              "      <td>1.55</td>\n",
              "      <td>8290.32</td>\n",
              "      <td>10.29</td>\n",
              "      <td>6.41</td>\n",
              "      <td>62.0</td>\n",
              "      <td>3.97420</td>\n",
              "    </tr>\n",
              "    <tr>\n",
              "      <th>48477</th>\n",
              "      <td>MED</td>\n",
              "      <td>EX</td>\n",
              "      <td>jamesallen</td>\n",
              "      <td>RD</td>\n",
              "      <td>H</td>\n",
              "      <td>VVS2</td>\n",
              "      <td>EX</td>\n",
              "      <td>EX</td>\n",
              "      <td>11725253</td>\n",
              "      <td>202207</td>\n",
              "      <td>7510.0</td>\n",
              "      <td>1.02</td>\n",
              "      <td>7362.75</td>\n",
              "      <td>6.41</td>\n",
              "      <td>6.45</td>\n",
              "      <td>62.5</td>\n",
              "      <td>4.03125</td>\n",
              "    </tr>\n",
              "    <tr>\n",
              "      <th>236786</th>\n",
              "      <td>NONE</td>\n",
              "      <td>EX</td>\n",
              "      <td>jamesallen</td>\n",
              "      <td>EM</td>\n",
              "      <td>H</td>\n",
              "      <td>IF</td>\n",
              "      <td>NaN</td>\n",
              "      <td>EX</td>\n",
              "      <td>14444347</td>\n",
              "      <td>202205</td>\n",
              "      <td>21220.0</td>\n",
              "      <td>2.01</td>\n",
              "      <td>10557.21</td>\n",
              "      <td>8.60</td>\n",
              "      <td>6.37</td>\n",
              "      <td>65.0</td>\n",
              "      <td>4.14050</td>\n",
              "    </tr>\n",
              "    <tr>\n",
              "      <th>235781</th>\n",
              "      <td>NONE</td>\n",
              "      <td>EX</td>\n",
              "      <td>jamesallen</td>\n",
              "      <td>RD</td>\n",
              "      <td>E</td>\n",
              "      <td>VS2</td>\n",
              "      <td>EX</td>\n",
              "      <td>EX</td>\n",
              "      <td>14438434</td>\n",
              "      <td>202207</td>\n",
              "      <td>8660.0</td>\n",
              "      <td>1.00</td>\n",
              "      <td>8660.00</td>\n",
              "      <td>6.39</td>\n",
              "      <td>6.44</td>\n",
              "      <td>61.4</td>\n",
              "      <td>3.95416</td>\n",
              "    </tr>\n",
              "    <tr>\n",
              "      <th>277744</th>\n",
              "      <td>NONE</td>\n",
              "      <td>VG</td>\n",
              "      <td>jamesallen</td>\n",
              "      <td>RD</td>\n",
              "      <td>F</td>\n",
              "      <td>VS1</td>\n",
              "      <td>VG</td>\n",
              "      <td>EX</td>\n",
              "      <td>14615276</td>\n",
              "      <td>202206</td>\n",
              "      <td>8480.0</td>\n",
              "      <td>1.00</td>\n",
              "      <td>8480.00</td>\n",
              "      <td>6.28</td>\n",
              "      <td>6.36</td>\n",
              "      <td>62.3</td>\n",
              "      <td>3.96228</td>\n",
              "    </tr>\n",
              "    <tr>\n",
              "      <th>...</th>\n",
              "      <td>...</td>\n",
              "      <td>...</td>\n",
              "      <td>...</td>\n",
              "      <td>...</td>\n",
              "      <td>...</td>\n",
              "      <td>...</td>\n",
              "      <td>...</td>\n",
              "      <td>...</td>\n",
              "      <td>...</td>\n",
              "      <td>...</td>\n",
              "      <td>...</td>\n",
              "      <td>...</td>\n",
              "      <td>...</td>\n",
              "      <td>...</td>\n",
              "      <td>...</td>\n",
              "      <td>...</td>\n",
              "      <td>...</td>\n",
              "    </tr>\n",
              "    <tr>\n",
              "      <th>20595</th>\n",
              "      <td>NONE</td>\n",
              "      <td>EX</td>\n",
              "      <td>jamesallen</td>\n",
              "      <td>RD</td>\n",
              "      <td>D</td>\n",
              "      <td>VS2</td>\n",
              "      <td>EX</td>\n",
              "      <td>EX</td>\n",
              "      <td>7535786</td>\n",
              "      <td>202207</td>\n",
              "      <td>8700.0</td>\n",
              "      <td>0.97</td>\n",
              "      <td>8969.07</td>\n",
              "      <td>6.36</td>\n",
              "      <td>6.32</td>\n",
              "      <td>62.2</td>\n",
              "      <td>3.93104</td>\n",
              "    </tr>\n",
              "    <tr>\n",
              "      <th>282754</th>\n",
              "      <td>NONE</td>\n",
              "      <td>EX</td>\n",
              "      <td>jamesallen</td>\n",
              "      <td>RD</td>\n",
              "      <td>D</td>\n",
              "      <td>VS2</td>\n",
              "      <td>EX</td>\n",
              "      <td>EX</td>\n",
              "      <td>14631732</td>\n",
              "      <td>202206</td>\n",
              "      <td>6650.0</td>\n",
              "      <td>0.90</td>\n",
              "      <td>7388.89</td>\n",
              "      <td>6.13</td>\n",
              "      <td>6.18</td>\n",
              "      <td>61.7</td>\n",
              "      <td>3.81306</td>\n",
              "    </tr>\n",
              "    <tr>\n",
              "      <th>141550</th>\n",
              "      <td>NONE</td>\n",
              "      <td>EX</td>\n",
              "      <td>jamesallen</td>\n",
              "      <td>RD</td>\n",
              "      <td>J</td>\n",
              "      <td>SI2</td>\n",
              "      <td>EX</td>\n",
              "      <td>EX</td>\n",
              "      <td>13932645</td>\n",
              "      <td>202205</td>\n",
              "      <td>11570.0</td>\n",
              "      <td>1.52</td>\n",
              "      <td>7611.84</td>\n",
              "      <td>7.36</td>\n",
              "      <td>7.39</td>\n",
              "      <td>61.0</td>\n",
              "      <td>4.50790</td>\n",
              "    </tr>\n",
              "    <tr>\n",
              "      <th>71237</th>\n",
              "      <td>STG</td>\n",
              "      <td>EX</td>\n",
              "      <td>jamesallen</td>\n",
              "      <td>RD</td>\n",
              "      <td>G</td>\n",
              "      <td>VS1</td>\n",
              "      <td>EX</td>\n",
              "      <td>EX</td>\n",
              "      <td>12699310</td>\n",
              "      <td>202207</td>\n",
              "      <td>8220.0</td>\n",
              "      <td>1.09</td>\n",
              "      <td>7541.28</td>\n",
              "      <td>6.55</td>\n",
              "      <td>6.60</td>\n",
              "      <td>62.0</td>\n",
              "      <td>4.09200</td>\n",
              "    </tr>\n",
              "    <tr>\n",
              "      <th>310690</th>\n",
              "      <td>NONE</td>\n",
              "      <td>EX</td>\n",
              "      <td>jamesallen</td>\n",
              "      <td>RD</td>\n",
              "      <td>I</td>\n",
              "      <td>VVS2</td>\n",
              "      <td>EX</td>\n",
              "      <td>EX</td>\n",
              "      <td>14734535</td>\n",
              "      <td>202206</td>\n",
              "      <td>14030.0</td>\n",
              "      <td>1.50</td>\n",
              "      <td>9353.33</td>\n",
              "      <td>7.41</td>\n",
              "      <td>7.44</td>\n",
              "      <td>59.9</td>\n",
              "      <td>4.45656</td>\n",
              "    </tr>\n",
              "  </tbody>\n",
              "</table>\n",
              "<p>222222 rows × 17 columns</p>\n",
              "</div>\n",
              "      <button class=\"colab-df-convert\" onclick=\"convertToInteractive('df-1c370a29-5f38-4a20-befa-68eb0ec44575')\"\n",
              "              title=\"Convert this dataframe to an interactive table.\"\n",
              "              style=\"display:none;\">\n",
              "        \n",
              "  <svg xmlns=\"http://www.w3.org/2000/svg\" height=\"24px\"viewBox=\"0 0 24 24\"\n",
              "       width=\"24px\">\n",
              "    <path d=\"M0 0h24v24H0V0z\" fill=\"none\"/>\n",
              "    <path d=\"M18.56 5.44l.94 2.06.94-2.06 2.06-.94-2.06-.94-.94-2.06-.94 2.06-2.06.94zm-11 1L8.5 8.5l.94-2.06 2.06-.94-2.06-.94L8.5 2.5l-.94 2.06-2.06.94zm10 10l.94 2.06.94-2.06 2.06-.94-2.06-.94-.94-2.06-.94 2.06-2.06.94z\"/><path d=\"M17.41 7.96l-1.37-1.37c-.4-.4-.92-.59-1.43-.59-.52 0-1.04.2-1.43.59L10.3 9.45l-7.72 7.72c-.78.78-.78 2.05 0 2.83L4 21.41c.39.39.9.59 1.41.59.51 0 1.02-.2 1.41-.59l7.78-7.78 2.81-2.81c.8-.78.8-2.07 0-2.86zM5.41 20L4 18.59l7.72-7.72 1.47 1.35L5.41 20z\"/>\n",
              "  </svg>\n",
              "      </button>\n",
              "      \n",
              "  <style>\n",
              "    .colab-df-container {\n",
              "      display:flex;\n",
              "      flex-wrap:wrap;\n",
              "      gap: 12px;\n",
              "    }\n",
              "\n",
              "    .colab-df-convert {\n",
              "      background-color: #E8F0FE;\n",
              "      border: none;\n",
              "      border-radius: 50%;\n",
              "      cursor: pointer;\n",
              "      display: none;\n",
              "      fill: #1967D2;\n",
              "      height: 32px;\n",
              "      padding: 0 0 0 0;\n",
              "      width: 32px;\n",
              "    }\n",
              "\n",
              "    .colab-df-convert:hover {\n",
              "      background-color: #E2EBFA;\n",
              "      box-shadow: 0px 1px 2px rgba(60, 64, 67, 0.3), 0px 1px 3px 1px rgba(60, 64, 67, 0.15);\n",
              "      fill: #174EA6;\n",
              "    }\n",
              "\n",
              "    [theme=dark] .colab-df-convert {\n",
              "      background-color: #3B4455;\n",
              "      fill: #D2E3FC;\n",
              "    }\n",
              "\n",
              "    [theme=dark] .colab-df-convert:hover {\n",
              "      background-color: #434B5C;\n",
              "      box-shadow: 0px 1px 3px 1px rgba(0, 0, 0, 0.15);\n",
              "      filter: drop-shadow(0px 1px 2px rgba(0, 0, 0, 0.3));\n",
              "      fill: #FFFFFF;\n",
              "    }\n",
              "  </style>\n",
              "\n",
              "      <script>\n",
              "        const buttonEl =\n",
              "          document.querySelector('#df-1c370a29-5f38-4a20-befa-68eb0ec44575 button.colab-df-convert');\n",
              "        buttonEl.style.display =\n",
              "          google.colab.kernel.accessAllowed ? 'block' : 'none';\n",
              "\n",
              "        async function convertToInteractive(key) {\n",
              "          const element = document.querySelector('#df-1c370a29-5f38-4a20-befa-68eb0ec44575');\n",
              "          const dataTable =\n",
              "            await google.colab.kernel.invokeFunction('convertToInteractive',\n",
              "                                                     [key], {});\n",
              "          if (!dataTable) return;\n",
              "\n",
              "          const docLinkHtml = 'Like what you see? Visit the ' +\n",
              "            '<a target=\"_blank\" href=https://colab.research.google.com/notebooks/data_table.ipynb>data table notebook</a>'\n",
              "            + ' to learn more about interactive tables.';\n",
              "          element.innerHTML = '';\n",
              "          dataTable['output_type'] = 'display_data';\n",
              "          await google.colab.output.renderOutput(dataTable, element);\n",
              "          const docLink = document.createElement('div');\n",
              "          docLink.innerHTML = docLinkHtml;\n",
              "          element.appendChild(docLink);\n",
              "        }\n",
              "      </script>\n",
              "    </div>\n",
              "  </div>\n",
              "  "
            ]
          },
          "metadata": {},
          "execution_count": 167
        }
      ]
    },
    {
      "cell_type": "markdown",
      "source": [
        "Необходимо предсказать `price_per_carat`"
      ],
      "metadata": {
        "id": "PD8Sv2_ktIqx"
      }
    },
    {
      "cell_type": "markdown",
      "source": [
        "### Задание 1: Очистка\n",
        "\n",
        "Не все камни успевают продаться за один месяц, поэтому в таблице есть повторы. Объедините данные по одному камню: подумайте, как лучше это сделать, какую цену брать.\n",
        "\n",
        "**Попробуйте найти аномалии:** вдруг цена на некоторые камни сильно меняется (то есть продавец сам не знает, по какой цене их продавать). Также убедитесь, что остальные параметры камня не меняются."
      ],
      "metadata": {
        "id": "HEBGHQkD7DWw"
      }
    },
    {
      "cell_type": "code",
      "source": [
        "df.id.value_counts().head(3)"
      ],
      "metadata": {
        "colab": {
          "base_uri": "https://localhost:8080/"
        },
        "id": "0uoLsVLUW6-n",
        "outputId": "70845b76-e0dc-45b1-bf09-2c8e9e90036f"
      },
      "execution_count": null,
      "outputs": [
        {
          "output_type": "execute_result",
          "data": {
            "text/plain": [
              "13649794    6\n",
              "13639276    6\n",
              "10341774    5\n",
              "Name: id, dtype: int64"
            ]
          },
          "metadata": {},
          "execution_count": 168
        }
      ]
    },
    {
      "cell_type": "code",
      "source": [
        "id_stat = df.groupby(by='id')['carat'].count().to_frame() #Посчитайте статистику по кол-ву камней\n",
        "id_stat"
      ],
      "metadata": {
        "colab": {
          "base_uri": "https://localhost:8080/",
          "height": 455
        },
        "id": "BIKhRo1iTmFr",
        "outputId": "20bb2c1c-3fcf-4e49-8ce1-02e187865c33"
      },
      "execution_count": null,
      "outputs": [
        {
          "output_type": "execute_result",
          "data": {
            "text/plain": [
              "          carat\n",
              "id             \n",
              "0             4\n",
              "19423         3\n",
              "19449         2\n",
              "19476         1\n",
              "19501         3\n",
              "...         ...\n",
              "15418480      1\n",
              "15418482      1\n",
              "15418486      1\n",
              "15418493      1\n",
              "15418506      1\n",
              "\n",
              "[162278 rows x 1 columns]"
            ],
            "text/html": [
              "\n",
              "  <div id=\"df-b29c3330-c52f-4728-8ed8-06adf32e082d\">\n",
              "    <div class=\"colab-df-container\">\n",
              "      <div>\n",
              "<style scoped>\n",
              "    .dataframe tbody tr th:only-of-type {\n",
              "        vertical-align: middle;\n",
              "    }\n",
              "\n",
              "    .dataframe tbody tr th {\n",
              "        vertical-align: top;\n",
              "    }\n",
              "\n",
              "    .dataframe thead th {\n",
              "        text-align: right;\n",
              "    }\n",
              "</style>\n",
              "<table border=\"1\" class=\"dataframe\">\n",
              "  <thead>\n",
              "    <tr style=\"text-align: right;\">\n",
              "      <th></th>\n",
              "      <th>carat</th>\n",
              "    </tr>\n",
              "    <tr>\n",
              "      <th>id</th>\n",
              "      <th></th>\n",
              "    </tr>\n",
              "  </thead>\n",
              "  <tbody>\n",
              "    <tr>\n",
              "      <th>0</th>\n",
              "      <td>4</td>\n",
              "    </tr>\n",
              "    <tr>\n",
              "      <th>19423</th>\n",
              "      <td>3</td>\n",
              "    </tr>\n",
              "    <tr>\n",
              "      <th>19449</th>\n",
              "      <td>2</td>\n",
              "    </tr>\n",
              "    <tr>\n",
              "      <th>19476</th>\n",
              "      <td>1</td>\n",
              "    </tr>\n",
              "    <tr>\n",
              "      <th>19501</th>\n",
              "      <td>3</td>\n",
              "    </tr>\n",
              "    <tr>\n",
              "      <th>...</th>\n",
              "      <td>...</td>\n",
              "    </tr>\n",
              "    <tr>\n",
              "      <th>15418480</th>\n",
              "      <td>1</td>\n",
              "    </tr>\n",
              "    <tr>\n",
              "      <th>15418482</th>\n",
              "      <td>1</td>\n",
              "    </tr>\n",
              "    <tr>\n",
              "      <th>15418486</th>\n",
              "      <td>1</td>\n",
              "    </tr>\n",
              "    <tr>\n",
              "      <th>15418493</th>\n",
              "      <td>1</td>\n",
              "    </tr>\n",
              "    <tr>\n",
              "      <th>15418506</th>\n",
              "      <td>1</td>\n",
              "    </tr>\n",
              "  </tbody>\n",
              "</table>\n",
              "<p>162278 rows × 1 columns</p>\n",
              "</div>\n",
              "      <button class=\"colab-df-convert\" onclick=\"convertToInteractive('df-b29c3330-c52f-4728-8ed8-06adf32e082d')\"\n",
              "              title=\"Convert this dataframe to an interactive table.\"\n",
              "              style=\"display:none;\">\n",
              "        \n",
              "  <svg xmlns=\"http://www.w3.org/2000/svg\" height=\"24px\"viewBox=\"0 0 24 24\"\n",
              "       width=\"24px\">\n",
              "    <path d=\"M0 0h24v24H0V0z\" fill=\"none\"/>\n",
              "    <path d=\"M18.56 5.44l.94 2.06.94-2.06 2.06-.94-2.06-.94-.94-2.06-.94 2.06-2.06.94zm-11 1L8.5 8.5l.94-2.06 2.06-.94-2.06-.94L8.5 2.5l-.94 2.06-2.06.94zm10 10l.94 2.06.94-2.06 2.06-.94-2.06-.94-.94-2.06-.94 2.06-2.06.94z\"/><path d=\"M17.41 7.96l-1.37-1.37c-.4-.4-.92-.59-1.43-.59-.52 0-1.04.2-1.43.59L10.3 9.45l-7.72 7.72c-.78.78-.78 2.05 0 2.83L4 21.41c.39.39.9.59 1.41.59.51 0 1.02-.2 1.41-.59l7.78-7.78 2.81-2.81c.8-.78.8-2.07 0-2.86zM5.41 20L4 18.59l7.72-7.72 1.47 1.35L5.41 20z\"/>\n",
              "  </svg>\n",
              "      </button>\n",
              "      \n",
              "  <style>\n",
              "    .colab-df-container {\n",
              "      display:flex;\n",
              "      flex-wrap:wrap;\n",
              "      gap: 12px;\n",
              "    }\n",
              "\n",
              "    .colab-df-convert {\n",
              "      background-color: #E8F0FE;\n",
              "      border: none;\n",
              "      border-radius: 50%;\n",
              "      cursor: pointer;\n",
              "      display: none;\n",
              "      fill: #1967D2;\n",
              "      height: 32px;\n",
              "      padding: 0 0 0 0;\n",
              "      width: 32px;\n",
              "    }\n",
              "\n",
              "    .colab-df-convert:hover {\n",
              "      background-color: #E2EBFA;\n",
              "      box-shadow: 0px 1px 2px rgba(60, 64, 67, 0.3), 0px 1px 3px 1px rgba(60, 64, 67, 0.15);\n",
              "      fill: #174EA6;\n",
              "    }\n",
              "\n",
              "    [theme=dark] .colab-df-convert {\n",
              "      background-color: #3B4455;\n",
              "      fill: #D2E3FC;\n",
              "    }\n",
              "\n",
              "    [theme=dark] .colab-df-convert:hover {\n",
              "      background-color: #434B5C;\n",
              "      box-shadow: 0px 1px 3px 1px rgba(0, 0, 0, 0.15);\n",
              "      filter: drop-shadow(0px 1px 2px rgba(0, 0, 0, 0.3));\n",
              "      fill: #FFFFFF;\n",
              "    }\n",
              "  </style>\n",
              "\n",
              "      <script>\n",
              "        const buttonEl =\n",
              "          document.querySelector('#df-b29c3330-c52f-4728-8ed8-06adf32e082d button.colab-df-convert');\n",
              "        buttonEl.style.display =\n",
              "          google.colab.kernel.accessAllowed ? 'block' : 'none';\n",
              "\n",
              "        async function convertToInteractive(key) {\n",
              "          const element = document.querySelector('#df-b29c3330-c52f-4728-8ed8-06adf32e082d');\n",
              "          const dataTable =\n",
              "            await google.colab.kernel.invokeFunction('convertToInteractive',\n",
              "                                                     [key], {});\n",
              "          if (!dataTable) return;\n",
              "\n",
              "          const docLinkHtml = 'Like what you see? Visit the ' +\n",
              "            '<a target=\"_blank\" href=https://colab.research.google.com/notebooks/data_table.ipynb>data table notebook</a>'\n",
              "            + ' to learn more about interactive tables.';\n",
              "          element.innerHTML = '';\n",
              "          dataTable['output_type'] = 'display_data';\n",
              "          await google.colab.output.renderOutput(dataTable, element);\n",
              "          const docLink = document.createElement('div');\n",
              "          docLink.innerHTML = docLinkHtml;\n",
              "          element.appendChild(docLink);\n",
              "        }\n",
              "      </script>\n",
              "    </div>\n",
              "  </div>\n",
              "  "
            ]
          },
          "metadata": {},
          "execution_count": 169
        }
      ]
    },
    {
      "cell_type": "code",
      "source": [
        "id_stat = df.groupby(by='id')['carat'].count().to_frame() #Посчитайте статистику по кол-ву камней"
      ],
      "metadata": {
        "id": "aFes8A-8cQPt"
      },
      "execution_count": null,
      "outputs": []
    },
    {
      "cell_type": "code",
      "source": [
        "# разделите выборку на две части\n",
        "one = id_stat[id_stat['carat'] == 1].index.to_list()\n",
        "more_than_one = id_stat[id_stat['carat'] > 1].index.to_list()"
      ],
      "metadata": {
        "id": "0XvGC4alT-4X"
      },
      "execution_count": null,
      "outputs": []
    },
    {
      "cell_type": "code",
      "source": [
        "df_one = df.query('id == @one')  # те камни, которые встречались один раз\n",
        "df_three = df.query('id == @more_than_one') # те камни, которые встречались 2 или 3 раза"
      ],
      "metadata": {
        "id": "HBqUFSnSbMgy"
      },
      "execution_count": null,
      "outputs": []
    },
    {
      "cell_type": "markdown",
      "source": [
        "Так как мы ищем  аномальные значения, разделил выборку на камни, встречающиеся один раз и на более чем один.\n"
      ],
      "metadata": {
        "id": "gM2_qM7aezk4"
      }
    },
    {
      "cell_type": "code",
      "source": [
        "df_three.groupby('id')[['price', 'carat','price_per_carat','depth_perc', 'z', 'x', 'y']].agg(np.std)"
      ],
      "metadata": {
        "colab": {
          "base_uri": "https://localhost:8080/",
          "height": 455
        },
        "id": "f58gecNrff69",
        "outputId": "2f3b83ef-6504-4d41-a996-27b399caeb42"
      },
      "execution_count": null,
      "outputs": [
        {
          "output_type": "execute_result",
          "data": {
            "text/plain": [
              "               price  carat  price_per_carat  depth_perc    z    x         y\n",
              "id                                                                          \n",
              "0           0.000000    0.0         0.000000    0.000000  0.0  0.0  0.000000\n",
              "19423     334.863156    0.0       318.916742    0.404145  0.0  0.0  0.026835\n",
              "19449     494.974747    0.0       423.054916    0.000000  0.0  0.0  0.000000\n",
              "19501     831.384388    0.0       415.692194    0.346410  0.0  0.0  0.027436\n",
              "19504       0.000000    0.0         0.000000    0.212132  0.0  0.0  0.014213\n",
              "...              ...    ...              ...         ...  ...  ...       ...\n",
              "15409696    0.000000    0.0         0.000000    0.000000  0.0  0.0  0.000000\n",
              "15410303    0.000000    0.0         0.000000    0.000000  0.0  0.0  0.000000\n",
              "15410668    0.000000    0.0         0.000000    0.000000  0.0  0.0  0.000000\n",
              "15410717    0.000000    0.0         0.000000    0.000000  0.0  0.0  0.000000\n",
              "15412954    0.000000    0.0         0.000000    0.000000  0.0  0.0  0.000000\n",
              "\n",
              "[50661 rows x 7 columns]"
            ],
            "text/html": [
              "\n",
              "  <div id=\"df-e649c6f1-5f85-4ad2-a8e4-950545ee159b\">\n",
              "    <div class=\"colab-df-container\">\n",
              "      <div>\n",
              "<style scoped>\n",
              "    .dataframe tbody tr th:only-of-type {\n",
              "        vertical-align: middle;\n",
              "    }\n",
              "\n",
              "    .dataframe tbody tr th {\n",
              "        vertical-align: top;\n",
              "    }\n",
              "\n",
              "    .dataframe thead th {\n",
              "        text-align: right;\n",
              "    }\n",
              "</style>\n",
              "<table border=\"1\" class=\"dataframe\">\n",
              "  <thead>\n",
              "    <tr style=\"text-align: right;\">\n",
              "      <th></th>\n",
              "      <th>price</th>\n",
              "      <th>carat</th>\n",
              "      <th>price_per_carat</th>\n",
              "      <th>depth_perc</th>\n",
              "      <th>z</th>\n",
              "      <th>x</th>\n",
              "      <th>y</th>\n",
              "    </tr>\n",
              "    <tr>\n",
              "      <th>id</th>\n",
              "      <th></th>\n",
              "      <th></th>\n",
              "      <th></th>\n",
              "      <th></th>\n",
              "      <th></th>\n",
              "      <th></th>\n",
              "      <th></th>\n",
              "    </tr>\n",
              "  </thead>\n",
              "  <tbody>\n",
              "    <tr>\n",
              "      <th>0</th>\n",
              "      <td>0.000000</td>\n",
              "      <td>0.0</td>\n",
              "      <td>0.000000</td>\n",
              "      <td>0.000000</td>\n",
              "      <td>0.0</td>\n",
              "      <td>0.0</td>\n",
              "      <td>0.000000</td>\n",
              "    </tr>\n",
              "    <tr>\n",
              "      <th>19423</th>\n",
              "      <td>334.863156</td>\n",
              "      <td>0.0</td>\n",
              "      <td>318.916742</td>\n",
              "      <td>0.404145</td>\n",
              "      <td>0.0</td>\n",
              "      <td>0.0</td>\n",
              "      <td>0.026835</td>\n",
              "    </tr>\n",
              "    <tr>\n",
              "      <th>19449</th>\n",
              "      <td>494.974747</td>\n",
              "      <td>0.0</td>\n",
              "      <td>423.054916</td>\n",
              "      <td>0.000000</td>\n",
              "      <td>0.0</td>\n",
              "      <td>0.0</td>\n",
              "      <td>0.000000</td>\n",
              "    </tr>\n",
              "    <tr>\n",
              "      <th>19501</th>\n",
              "      <td>831.384388</td>\n",
              "      <td>0.0</td>\n",
              "      <td>415.692194</td>\n",
              "      <td>0.346410</td>\n",
              "      <td>0.0</td>\n",
              "      <td>0.0</td>\n",
              "      <td>0.027436</td>\n",
              "    </tr>\n",
              "    <tr>\n",
              "      <th>19504</th>\n",
              "      <td>0.000000</td>\n",
              "      <td>0.0</td>\n",
              "      <td>0.000000</td>\n",
              "      <td>0.212132</td>\n",
              "      <td>0.0</td>\n",
              "      <td>0.0</td>\n",
              "      <td>0.014213</td>\n",
              "    </tr>\n",
              "    <tr>\n",
              "      <th>...</th>\n",
              "      <td>...</td>\n",
              "      <td>...</td>\n",
              "      <td>...</td>\n",
              "      <td>...</td>\n",
              "      <td>...</td>\n",
              "      <td>...</td>\n",
              "      <td>...</td>\n",
              "    </tr>\n",
              "    <tr>\n",
              "      <th>15409696</th>\n",
              "      <td>0.000000</td>\n",
              "      <td>0.0</td>\n",
              "      <td>0.000000</td>\n",
              "      <td>0.000000</td>\n",
              "      <td>0.0</td>\n",
              "      <td>0.0</td>\n",
              "      <td>0.000000</td>\n",
              "    </tr>\n",
              "    <tr>\n",
              "      <th>15410303</th>\n",
              "      <td>0.000000</td>\n",
              "      <td>0.0</td>\n",
              "      <td>0.000000</td>\n",
              "      <td>0.000000</td>\n",
              "      <td>0.0</td>\n",
              "      <td>0.0</td>\n",
              "      <td>0.000000</td>\n",
              "    </tr>\n",
              "    <tr>\n",
              "      <th>15410668</th>\n",
              "      <td>0.000000</td>\n",
              "      <td>0.0</td>\n",
              "      <td>0.000000</td>\n",
              "      <td>0.000000</td>\n",
              "      <td>0.0</td>\n",
              "      <td>0.0</td>\n",
              "      <td>0.000000</td>\n",
              "    </tr>\n",
              "    <tr>\n",
              "      <th>15410717</th>\n",
              "      <td>0.000000</td>\n",
              "      <td>0.0</td>\n",
              "      <td>0.000000</td>\n",
              "      <td>0.000000</td>\n",
              "      <td>0.0</td>\n",
              "      <td>0.0</td>\n",
              "      <td>0.000000</td>\n",
              "    </tr>\n",
              "    <tr>\n",
              "      <th>15412954</th>\n",
              "      <td>0.000000</td>\n",
              "      <td>0.0</td>\n",
              "      <td>0.000000</td>\n",
              "      <td>0.000000</td>\n",
              "      <td>0.0</td>\n",
              "      <td>0.0</td>\n",
              "      <td>0.000000</td>\n",
              "    </tr>\n",
              "  </tbody>\n",
              "</table>\n",
              "<p>50661 rows × 7 columns</p>\n",
              "</div>\n",
              "      <button class=\"colab-df-convert\" onclick=\"convertToInteractive('df-e649c6f1-5f85-4ad2-a8e4-950545ee159b')\"\n",
              "              title=\"Convert this dataframe to an interactive table.\"\n",
              "              style=\"display:none;\">\n",
              "        \n",
              "  <svg xmlns=\"http://www.w3.org/2000/svg\" height=\"24px\"viewBox=\"0 0 24 24\"\n",
              "       width=\"24px\">\n",
              "    <path d=\"M0 0h24v24H0V0z\" fill=\"none\"/>\n",
              "    <path d=\"M18.56 5.44l.94 2.06.94-2.06 2.06-.94-2.06-.94-.94-2.06-.94 2.06-2.06.94zm-11 1L8.5 8.5l.94-2.06 2.06-.94-2.06-.94L8.5 2.5l-.94 2.06-2.06.94zm10 10l.94 2.06.94-2.06 2.06-.94-2.06-.94-.94-2.06-.94 2.06-2.06.94z\"/><path d=\"M17.41 7.96l-1.37-1.37c-.4-.4-.92-.59-1.43-.59-.52 0-1.04.2-1.43.59L10.3 9.45l-7.72 7.72c-.78.78-.78 2.05 0 2.83L4 21.41c.39.39.9.59 1.41.59.51 0 1.02-.2 1.41-.59l7.78-7.78 2.81-2.81c.8-.78.8-2.07 0-2.86zM5.41 20L4 18.59l7.72-7.72 1.47 1.35L5.41 20z\"/>\n",
              "  </svg>\n",
              "      </button>\n",
              "      \n",
              "  <style>\n",
              "    .colab-df-container {\n",
              "      display:flex;\n",
              "      flex-wrap:wrap;\n",
              "      gap: 12px;\n",
              "    }\n",
              "\n",
              "    .colab-df-convert {\n",
              "      background-color: #E8F0FE;\n",
              "      border: none;\n",
              "      border-radius: 50%;\n",
              "      cursor: pointer;\n",
              "      display: none;\n",
              "      fill: #1967D2;\n",
              "      height: 32px;\n",
              "      padding: 0 0 0 0;\n",
              "      width: 32px;\n",
              "    }\n",
              "\n",
              "    .colab-df-convert:hover {\n",
              "      background-color: #E2EBFA;\n",
              "      box-shadow: 0px 1px 2px rgba(60, 64, 67, 0.3), 0px 1px 3px 1px rgba(60, 64, 67, 0.15);\n",
              "      fill: #174EA6;\n",
              "    }\n",
              "\n",
              "    [theme=dark] .colab-df-convert {\n",
              "      background-color: #3B4455;\n",
              "      fill: #D2E3FC;\n",
              "    }\n",
              "\n",
              "    [theme=dark] .colab-df-convert:hover {\n",
              "      background-color: #434B5C;\n",
              "      box-shadow: 0px 1px 3px 1px rgba(0, 0, 0, 0.15);\n",
              "      filter: drop-shadow(0px 1px 2px rgba(0, 0, 0, 0.3));\n",
              "      fill: #FFFFFF;\n",
              "    }\n",
              "  </style>\n",
              "\n",
              "      <script>\n",
              "        const buttonEl =\n",
              "          document.querySelector('#df-e649c6f1-5f85-4ad2-a8e4-950545ee159b button.colab-df-convert');\n",
              "        buttonEl.style.display =\n",
              "          google.colab.kernel.accessAllowed ? 'block' : 'none';\n",
              "\n",
              "        async function convertToInteractive(key) {\n",
              "          const element = document.querySelector('#df-e649c6f1-5f85-4ad2-a8e4-950545ee159b');\n",
              "          const dataTable =\n",
              "            await google.colab.kernel.invokeFunction('convertToInteractive',\n",
              "                                                     [key], {});\n",
              "          if (!dataTable) return;\n",
              "\n",
              "          const docLinkHtml = 'Like what you see? Visit the ' +\n",
              "            '<a target=\"_blank\" href=https://colab.research.google.com/notebooks/data_table.ipynb>data table notebook</a>'\n",
              "            + ' to learn more about interactive tables.';\n",
              "          element.innerHTML = '';\n",
              "          dataTable['output_type'] = 'display_data';\n",
              "          await google.colab.output.renderOutput(dataTable, element);\n",
              "          const docLink = document.createElement('div');\n",
              "          docLink.innerHTML = docLinkHtml;\n",
              "          element.appendChild(docLink);\n",
              "        }\n",
              "      </script>\n",
              "    </div>\n",
              "  </div>\n",
              "  "
            ]
          },
          "metadata": {},
          "execution_count": 173
        }
      ]
    },
    {
      "cell_type": "code",
      "source": [
        "stat = df_three.groupby('id')[['price', 'carat','price_per_carat','depth_perc', 'z', 'x', 'y']].agg(np.std) # Посчитайте стандартное отклонение по нескольким полям,\n",
        "#  подумайте где оно должно равняться 0, а где меняться в каких-то разумных пределах"
      ],
      "metadata": {
        "id": "GlxpDqELbWXn"
      },
      "execution_count": null,
      "outputs": []
    },
    {
      "cell_type": "code",
      "source": [
        "stat_list = stat.query('carat == 0 & depth_perc == 0 & z == 0').index.to_list()"
      ],
      "metadata": {
        "id": "P2bmDadthOQp"
      },
      "execution_count": null,
      "outputs": []
    },
    {
      "cell_type": "markdown",
      "source": [
        "Стандартное отклонение должно быть постоянным там, где значения не должны изменяться со временем. Можно предположить, что размеры алмазов не должны меняться со временем, поэтому смотрим аномальные камни по следующим признакам: carat, depth_perc, z. Из описания признаков - признак depth_perc имеет прямую корреляцию с x и y, поэтому их можно отбросить."
      ],
      "metadata": {
        "id": "hJqIoRQCejSA"
      }
    },
    {
      "cell_type": "code",
      "source": [
        "df_three.query('id == 0')"
      ],
      "metadata": {
        "colab": {
          "base_uri": "https://localhost:8080/",
          "height": 174
        },
        "id": "YddkUjdZi8Lj",
        "outputId": "ffe02fc9-b605-4b0e-869e-62ba7e066382"
      },
      "execution_count": null,
      "outputs": [
        {
          "output_type": "execute_result",
          "data": {
            "text/plain": [
              "       fluor symmetry platform shape color clarity  cut polish  id  date  \\\n",
              "202754   NaN      NaN      NaN   NaN   NaN     NaN  NaN    NaN   0     0   \n",
              "244620   NaN      NaN      NaN   NaN   NaN     NaN  NaN    NaN   0     0   \n",
              "53946    NaN      NaN      NaN   NaN   NaN     NaN  NaN    NaN   0     0   \n",
              "53948    NaN      NaN      NaN   NaN   NaN     NaN  NaN    NaN   0     0   \n",
              "\n",
              "        price  carat  price_per_carat    z    x  depth_perc    y  \n",
              "202754    0.0    0.0              0.0  0.0  0.0         0.0  0.0  \n",
              "244620    0.0    0.0              0.0  0.0  0.0         0.0  0.0  \n",
              "53946     0.0    0.0              0.0  0.0  0.0         0.0  0.0  \n",
              "53948     0.0    0.0              0.0  0.0  0.0         0.0  0.0  "
            ],
            "text/html": [
              "\n",
              "  <div id=\"df-e11ea714-1653-4198-a486-585712593695\">\n",
              "    <div class=\"colab-df-container\">\n",
              "      <div>\n",
              "<style scoped>\n",
              "    .dataframe tbody tr th:only-of-type {\n",
              "        vertical-align: middle;\n",
              "    }\n",
              "\n",
              "    .dataframe tbody tr th {\n",
              "        vertical-align: top;\n",
              "    }\n",
              "\n",
              "    .dataframe thead th {\n",
              "        text-align: right;\n",
              "    }\n",
              "</style>\n",
              "<table border=\"1\" class=\"dataframe\">\n",
              "  <thead>\n",
              "    <tr style=\"text-align: right;\">\n",
              "      <th></th>\n",
              "      <th>fluor</th>\n",
              "      <th>symmetry</th>\n",
              "      <th>platform</th>\n",
              "      <th>shape</th>\n",
              "      <th>color</th>\n",
              "      <th>clarity</th>\n",
              "      <th>cut</th>\n",
              "      <th>polish</th>\n",
              "      <th>id</th>\n",
              "      <th>date</th>\n",
              "      <th>price</th>\n",
              "      <th>carat</th>\n",
              "      <th>price_per_carat</th>\n",
              "      <th>z</th>\n",
              "      <th>x</th>\n",
              "      <th>depth_perc</th>\n",
              "      <th>y</th>\n",
              "    </tr>\n",
              "  </thead>\n",
              "  <tbody>\n",
              "    <tr>\n",
              "      <th>202754</th>\n",
              "      <td>NaN</td>\n",
              "      <td>NaN</td>\n",
              "      <td>NaN</td>\n",
              "      <td>NaN</td>\n",
              "      <td>NaN</td>\n",
              "      <td>NaN</td>\n",
              "      <td>NaN</td>\n",
              "      <td>NaN</td>\n",
              "      <td>0</td>\n",
              "      <td>0</td>\n",
              "      <td>0.0</td>\n",
              "      <td>0.0</td>\n",
              "      <td>0.0</td>\n",
              "      <td>0.0</td>\n",
              "      <td>0.0</td>\n",
              "      <td>0.0</td>\n",
              "      <td>0.0</td>\n",
              "    </tr>\n",
              "    <tr>\n",
              "      <th>244620</th>\n",
              "      <td>NaN</td>\n",
              "      <td>NaN</td>\n",
              "      <td>NaN</td>\n",
              "      <td>NaN</td>\n",
              "      <td>NaN</td>\n",
              "      <td>NaN</td>\n",
              "      <td>NaN</td>\n",
              "      <td>NaN</td>\n",
              "      <td>0</td>\n",
              "      <td>0</td>\n",
              "      <td>0.0</td>\n",
              "      <td>0.0</td>\n",
              "      <td>0.0</td>\n",
              "      <td>0.0</td>\n",
              "      <td>0.0</td>\n",
              "      <td>0.0</td>\n",
              "      <td>0.0</td>\n",
              "    </tr>\n",
              "    <tr>\n",
              "      <th>53946</th>\n",
              "      <td>NaN</td>\n",
              "      <td>NaN</td>\n",
              "      <td>NaN</td>\n",
              "      <td>NaN</td>\n",
              "      <td>NaN</td>\n",
              "      <td>NaN</td>\n",
              "      <td>NaN</td>\n",
              "      <td>NaN</td>\n",
              "      <td>0</td>\n",
              "      <td>0</td>\n",
              "      <td>0.0</td>\n",
              "      <td>0.0</td>\n",
              "      <td>0.0</td>\n",
              "      <td>0.0</td>\n",
              "      <td>0.0</td>\n",
              "      <td>0.0</td>\n",
              "      <td>0.0</td>\n",
              "    </tr>\n",
              "    <tr>\n",
              "      <th>53948</th>\n",
              "      <td>NaN</td>\n",
              "      <td>NaN</td>\n",
              "      <td>NaN</td>\n",
              "      <td>NaN</td>\n",
              "      <td>NaN</td>\n",
              "      <td>NaN</td>\n",
              "      <td>NaN</td>\n",
              "      <td>NaN</td>\n",
              "      <td>0</td>\n",
              "      <td>0</td>\n",
              "      <td>0.0</td>\n",
              "      <td>0.0</td>\n",
              "      <td>0.0</td>\n",
              "      <td>0.0</td>\n",
              "      <td>0.0</td>\n",
              "      <td>0.0</td>\n",
              "      <td>0.0</td>\n",
              "    </tr>\n",
              "  </tbody>\n",
              "</table>\n",
              "</div>\n",
              "      <button class=\"colab-df-convert\" onclick=\"convertToInteractive('df-e11ea714-1653-4198-a486-585712593695')\"\n",
              "              title=\"Convert this dataframe to an interactive table.\"\n",
              "              style=\"display:none;\">\n",
              "        \n",
              "  <svg xmlns=\"http://www.w3.org/2000/svg\" height=\"24px\"viewBox=\"0 0 24 24\"\n",
              "       width=\"24px\">\n",
              "    <path d=\"M0 0h24v24H0V0z\" fill=\"none\"/>\n",
              "    <path d=\"M18.56 5.44l.94 2.06.94-2.06 2.06-.94-2.06-.94-.94-2.06-.94 2.06-2.06.94zm-11 1L8.5 8.5l.94-2.06 2.06-.94-2.06-.94L8.5 2.5l-.94 2.06-2.06.94zm10 10l.94 2.06.94-2.06 2.06-.94-2.06-.94-.94-2.06-.94 2.06-2.06.94z\"/><path d=\"M17.41 7.96l-1.37-1.37c-.4-.4-.92-.59-1.43-.59-.52 0-1.04.2-1.43.59L10.3 9.45l-7.72 7.72c-.78.78-.78 2.05 0 2.83L4 21.41c.39.39.9.59 1.41.59.51 0 1.02-.2 1.41-.59l7.78-7.78 2.81-2.81c.8-.78.8-2.07 0-2.86zM5.41 20L4 18.59l7.72-7.72 1.47 1.35L5.41 20z\"/>\n",
              "  </svg>\n",
              "      </button>\n",
              "      \n",
              "  <style>\n",
              "    .colab-df-container {\n",
              "      display:flex;\n",
              "      flex-wrap:wrap;\n",
              "      gap: 12px;\n",
              "    }\n",
              "\n",
              "    .colab-df-convert {\n",
              "      background-color: #E8F0FE;\n",
              "      border: none;\n",
              "      border-radius: 50%;\n",
              "      cursor: pointer;\n",
              "      display: none;\n",
              "      fill: #1967D2;\n",
              "      height: 32px;\n",
              "      padding: 0 0 0 0;\n",
              "      width: 32px;\n",
              "    }\n",
              "\n",
              "    .colab-df-convert:hover {\n",
              "      background-color: #E2EBFA;\n",
              "      box-shadow: 0px 1px 2px rgba(60, 64, 67, 0.3), 0px 1px 3px 1px rgba(60, 64, 67, 0.15);\n",
              "      fill: #174EA6;\n",
              "    }\n",
              "\n",
              "    [theme=dark] .colab-df-convert {\n",
              "      background-color: #3B4455;\n",
              "      fill: #D2E3FC;\n",
              "    }\n",
              "\n",
              "    [theme=dark] .colab-df-convert:hover {\n",
              "      background-color: #434B5C;\n",
              "      box-shadow: 0px 1px 3px 1px rgba(0, 0, 0, 0.15);\n",
              "      filter: drop-shadow(0px 1px 2px rgba(0, 0, 0, 0.3));\n",
              "      fill: #FFFFFF;\n",
              "    }\n",
              "  </style>\n",
              "\n",
              "      <script>\n",
              "        const buttonEl =\n",
              "          document.querySelector('#df-e11ea714-1653-4198-a486-585712593695 button.colab-df-convert');\n",
              "        buttonEl.style.display =\n",
              "          google.colab.kernel.accessAllowed ? 'block' : 'none';\n",
              "\n",
              "        async function convertToInteractive(key) {\n",
              "          const element = document.querySelector('#df-e11ea714-1653-4198-a486-585712593695');\n",
              "          const dataTable =\n",
              "            await google.colab.kernel.invokeFunction('convertToInteractive',\n",
              "                                                     [key], {});\n",
              "          if (!dataTable) return;\n",
              "\n",
              "          const docLinkHtml = 'Like what you see? Visit the ' +\n",
              "            '<a target=\"_blank\" href=https://colab.research.google.com/notebooks/data_table.ipynb>data table notebook</a>'\n",
              "            + ' to learn more about interactive tables.';\n",
              "          element.innerHTML = '';\n",
              "          dataTable['output_type'] = 'display_data';\n",
              "          await google.colab.output.renderOutput(dataTable, element);\n",
              "          const docLink = document.createElement('div');\n",
              "          docLink.innerHTML = docLinkHtml;\n",
              "          element.appendChild(docLink);\n",
              "        }\n",
              "      </script>\n",
              "    </div>\n",
              "  </div>\n",
              "  "
            ]
          },
          "metadata": {},
          "execution_count": 176
        }
      ]
    },
    {
      "cell_type": "code",
      "source": [
        "# Удалите аномальные наблюдения\n",
        "df_three = df_three.query(\"id == @stat_list & id != 0\").sort_values(by=['id','date'])"
      ],
      "metadata": {
        "id": "JMeWH424g1Gw"
      },
      "execution_count": null,
      "outputs": []
    },
    {
      "cell_type": "code",
      "source": [
        "df_three = df_three.groupby('id').agg('max').reset_index() #тепреь в качестве цены возьмем последнее значение по времени\n",
        "\n",
        "df = pd.concat([df_one, df_three]).reset_index(drop=True) # соединяем результаты"
      ],
      "metadata": {
        "id": "uL1lalBa7AVS"
      },
      "execution_count": null,
      "outputs": []
    },
    {
      "cell_type": "markdown",
      "source": [
        "Цены на бриллианты достаточно сильно меняются, попробуйте вычислить коэффициент инфляции и привести цены к последнему месяцу. Стоит учесть, что цены на все бриллианты не изменяются синхронно, то есть изменение в определенных группах может быть разным.\n",
        "\n",
        "*Определите эти группы и рассчитайте коэффициенты инфляции для каждой из них. Подправьте цены на эти коэффициенты и создайте новую переменную.*"
      ],
      "metadata": {
        "id": "NnsNVat_CIPB"
      }
    },
    {
      "cell_type": "code",
      "source": [
        "df_three"
      ],
      "metadata": {
        "colab": {
          "base_uri": "https://localhost:8080/",
          "height": 423
        },
        "id": "S4Twb_jPmFY9",
        "outputId": "25b8eb58-7de3-47a5-b274-a4a4ad66dda9"
      },
      "execution_count": null,
      "outputs": [
        {
          "output_type": "execute_result",
          "data": {
            "text/plain": [
              "             id fluor symmetry    platform  shape color clarity  cut polish  \\\n",
              "0         19449  NONE       EX  jamesallen     RD     D    VVS2   EX     EX   \n",
              "1         19507  NONE       VG  jamesallen  EM SQ     E     VS1  NaN     VG   \n",
              "2         19518  NONE       VG  jamesallen     RD     E     VS1   EX     VG   \n",
              "3         19635   FNT       VG  jamesallen    RAD     E     VS1  NaN     EX   \n",
              "4         19656  NONE        G  jamesallen    RAD     D     VS2  NaN     EX   \n",
              "...         ...   ...      ...         ...    ...   ...     ...  ...    ...   \n",
              "20054  15409696  NONE       EX  jamesallen     RD     I     SI1   EX     EX   \n",
              "20055  15410303   MED       EX  jamesallen     OV     H    VVS2  NaN     EX   \n",
              "20056  15410668  NONE       VG  jamesallen     EM     D     VS1  NaN     EX   \n",
              "20057  15410717   MED       EX  jamesallen     EM     H     SI2  NaN     EX   \n",
              "20058  15412954  NONE       EX  jamesallen     PR     G    VVS2   EX     EX   \n",
              "\n",
              "         date    price  carat  price_per_carat      z     x  depth_perc  \\\n",
              "0      202207  17550.0   1.17         15000.00   6.79  6.75        62.0   \n",
              "1      202207  27560.0   2.03         13576.35   7.20  6.86        70.1   \n",
              "2      202207  43650.0   2.11         20687.20   8.31  8.29        60.1   \n",
              "3      202207   5690.0   1.02          5578.43   5.93  5.14        70.0   \n",
              "4      202207   5600.0   1.07          5233.64   5.76  5.51        74.2   \n",
              "...       ...      ...    ...              ...    ...   ...         ...   \n",
              "20054  202207   6040.0   1.01          5980.20   6.46  6.49        60.8   \n",
              "20055  202207   6620.0   1.01          6554.46   7.76  5.40        65.0   \n",
              "20056  202207  14750.0   1.50          9833.33   7.84  5.43        65.8   \n",
              "20057  202207  48230.0   4.53         10646.80  11.61  7.57        67.5   \n",
              "20058  202207   7100.0   1.20          5916.67   5.80  5.76        72.4   \n",
              "\n",
              "             y  \n",
              "0      4.18500  \n",
              "1      4.80886  \n",
              "2      4.98229  \n",
              "3      3.59800  \n",
              "4      4.08842  \n",
              "...        ...  \n",
              "20054  3.94592  \n",
              "20055  3.51000  \n",
              "20056  3.57294  \n",
              "20057  5.10975  \n",
              "20058  4.17024  \n",
              "\n",
              "[20059 rows x 17 columns]"
            ],
            "text/html": [
              "\n",
              "  <div id=\"df-9db45b37-86b6-420c-936c-57fa6cd0db4e\">\n",
              "    <div class=\"colab-df-container\">\n",
              "      <div>\n",
              "<style scoped>\n",
              "    .dataframe tbody tr th:only-of-type {\n",
              "        vertical-align: middle;\n",
              "    }\n",
              "\n",
              "    .dataframe tbody tr th {\n",
              "        vertical-align: top;\n",
              "    }\n",
              "\n",
              "    .dataframe thead th {\n",
              "        text-align: right;\n",
              "    }\n",
              "</style>\n",
              "<table border=\"1\" class=\"dataframe\">\n",
              "  <thead>\n",
              "    <tr style=\"text-align: right;\">\n",
              "      <th></th>\n",
              "      <th>id</th>\n",
              "      <th>fluor</th>\n",
              "      <th>symmetry</th>\n",
              "      <th>platform</th>\n",
              "      <th>shape</th>\n",
              "      <th>color</th>\n",
              "      <th>clarity</th>\n",
              "      <th>cut</th>\n",
              "      <th>polish</th>\n",
              "      <th>date</th>\n",
              "      <th>price</th>\n",
              "      <th>carat</th>\n",
              "      <th>price_per_carat</th>\n",
              "      <th>z</th>\n",
              "      <th>x</th>\n",
              "      <th>depth_perc</th>\n",
              "      <th>y</th>\n",
              "    </tr>\n",
              "  </thead>\n",
              "  <tbody>\n",
              "    <tr>\n",
              "      <th>0</th>\n",
              "      <td>19449</td>\n",
              "      <td>NONE</td>\n",
              "      <td>EX</td>\n",
              "      <td>jamesallen</td>\n",
              "      <td>RD</td>\n",
              "      <td>D</td>\n",
              "      <td>VVS2</td>\n",
              "      <td>EX</td>\n",
              "      <td>EX</td>\n",
              "      <td>202207</td>\n",
              "      <td>17550.0</td>\n",
              "      <td>1.17</td>\n",
              "      <td>15000.00</td>\n",
              "      <td>6.79</td>\n",
              "      <td>6.75</td>\n",
              "      <td>62.0</td>\n",
              "      <td>4.18500</td>\n",
              "    </tr>\n",
              "    <tr>\n",
              "      <th>1</th>\n",
              "      <td>19507</td>\n",
              "      <td>NONE</td>\n",
              "      <td>VG</td>\n",
              "      <td>jamesallen</td>\n",
              "      <td>EM SQ</td>\n",
              "      <td>E</td>\n",
              "      <td>VS1</td>\n",
              "      <td>NaN</td>\n",
              "      <td>VG</td>\n",
              "      <td>202207</td>\n",
              "      <td>27560.0</td>\n",
              "      <td>2.03</td>\n",
              "      <td>13576.35</td>\n",
              "      <td>7.20</td>\n",
              "      <td>6.86</td>\n",
              "      <td>70.1</td>\n",
              "      <td>4.80886</td>\n",
              "    </tr>\n",
              "    <tr>\n",
              "      <th>2</th>\n",
              "      <td>19518</td>\n",
              "      <td>NONE</td>\n",
              "      <td>VG</td>\n",
              "      <td>jamesallen</td>\n",
              "      <td>RD</td>\n",
              "      <td>E</td>\n",
              "      <td>VS1</td>\n",
              "      <td>EX</td>\n",
              "      <td>VG</td>\n",
              "      <td>202207</td>\n",
              "      <td>43650.0</td>\n",
              "      <td>2.11</td>\n",
              "      <td>20687.20</td>\n",
              "      <td>8.31</td>\n",
              "      <td>8.29</td>\n",
              "      <td>60.1</td>\n",
              "      <td>4.98229</td>\n",
              "    </tr>\n",
              "    <tr>\n",
              "      <th>3</th>\n",
              "      <td>19635</td>\n",
              "      <td>FNT</td>\n",
              "      <td>VG</td>\n",
              "      <td>jamesallen</td>\n",
              "      <td>RAD</td>\n",
              "      <td>E</td>\n",
              "      <td>VS1</td>\n",
              "      <td>NaN</td>\n",
              "      <td>EX</td>\n",
              "      <td>202207</td>\n",
              "      <td>5690.0</td>\n",
              "      <td>1.02</td>\n",
              "      <td>5578.43</td>\n",
              "      <td>5.93</td>\n",
              "      <td>5.14</td>\n",
              "      <td>70.0</td>\n",
              "      <td>3.59800</td>\n",
              "    </tr>\n",
              "    <tr>\n",
              "      <th>4</th>\n",
              "      <td>19656</td>\n",
              "      <td>NONE</td>\n",
              "      <td>G</td>\n",
              "      <td>jamesallen</td>\n",
              "      <td>RAD</td>\n",
              "      <td>D</td>\n",
              "      <td>VS2</td>\n",
              "      <td>NaN</td>\n",
              "      <td>EX</td>\n",
              "      <td>202207</td>\n",
              "      <td>5600.0</td>\n",
              "      <td>1.07</td>\n",
              "      <td>5233.64</td>\n",
              "      <td>5.76</td>\n",
              "      <td>5.51</td>\n",
              "      <td>74.2</td>\n",
              "      <td>4.08842</td>\n",
              "    </tr>\n",
              "    <tr>\n",
              "      <th>...</th>\n",
              "      <td>...</td>\n",
              "      <td>...</td>\n",
              "      <td>...</td>\n",
              "      <td>...</td>\n",
              "      <td>...</td>\n",
              "      <td>...</td>\n",
              "      <td>...</td>\n",
              "      <td>...</td>\n",
              "      <td>...</td>\n",
              "      <td>...</td>\n",
              "      <td>...</td>\n",
              "      <td>...</td>\n",
              "      <td>...</td>\n",
              "      <td>...</td>\n",
              "      <td>...</td>\n",
              "      <td>...</td>\n",
              "      <td>...</td>\n",
              "    </tr>\n",
              "    <tr>\n",
              "      <th>20054</th>\n",
              "      <td>15409696</td>\n",
              "      <td>NONE</td>\n",
              "      <td>EX</td>\n",
              "      <td>jamesallen</td>\n",
              "      <td>RD</td>\n",
              "      <td>I</td>\n",
              "      <td>SI1</td>\n",
              "      <td>EX</td>\n",
              "      <td>EX</td>\n",
              "      <td>202207</td>\n",
              "      <td>6040.0</td>\n",
              "      <td>1.01</td>\n",
              "      <td>5980.20</td>\n",
              "      <td>6.46</td>\n",
              "      <td>6.49</td>\n",
              "      <td>60.8</td>\n",
              "      <td>3.94592</td>\n",
              "    </tr>\n",
              "    <tr>\n",
              "      <th>20055</th>\n",
              "      <td>15410303</td>\n",
              "      <td>MED</td>\n",
              "      <td>EX</td>\n",
              "      <td>jamesallen</td>\n",
              "      <td>OV</td>\n",
              "      <td>H</td>\n",
              "      <td>VVS2</td>\n",
              "      <td>NaN</td>\n",
              "      <td>EX</td>\n",
              "      <td>202207</td>\n",
              "      <td>6620.0</td>\n",
              "      <td>1.01</td>\n",
              "      <td>6554.46</td>\n",
              "      <td>7.76</td>\n",
              "      <td>5.40</td>\n",
              "      <td>65.0</td>\n",
              "      <td>3.51000</td>\n",
              "    </tr>\n",
              "    <tr>\n",
              "      <th>20056</th>\n",
              "      <td>15410668</td>\n",
              "      <td>NONE</td>\n",
              "      <td>VG</td>\n",
              "      <td>jamesallen</td>\n",
              "      <td>EM</td>\n",
              "      <td>D</td>\n",
              "      <td>VS1</td>\n",
              "      <td>NaN</td>\n",
              "      <td>EX</td>\n",
              "      <td>202207</td>\n",
              "      <td>14750.0</td>\n",
              "      <td>1.50</td>\n",
              "      <td>9833.33</td>\n",
              "      <td>7.84</td>\n",
              "      <td>5.43</td>\n",
              "      <td>65.8</td>\n",
              "      <td>3.57294</td>\n",
              "    </tr>\n",
              "    <tr>\n",
              "      <th>20057</th>\n",
              "      <td>15410717</td>\n",
              "      <td>MED</td>\n",
              "      <td>EX</td>\n",
              "      <td>jamesallen</td>\n",
              "      <td>EM</td>\n",
              "      <td>H</td>\n",
              "      <td>SI2</td>\n",
              "      <td>NaN</td>\n",
              "      <td>EX</td>\n",
              "      <td>202207</td>\n",
              "      <td>48230.0</td>\n",
              "      <td>4.53</td>\n",
              "      <td>10646.80</td>\n",
              "      <td>11.61</td>\n",
              "      <td>7.57</td>\n",
              "      <td>67.5</td>\n",
              "      <td>5.10975</td>\n",
              "    </tr>\n",
              "    <tr>\n",
              "      <th>20058</th>\n",
              "      <td>15412954</td>\n",
              "      <td>NONE</td>\n",
              "      <td>EX</td>\n",
              "      <td>jamesallen</td>\n",
              "      <td>PR</td>\n",
              "      <td>G</td>\n",
              "      <td>VVS2</td>\n",
              "      <td>EX</td>\n",
              "      <td>EX</td>\n",
              "      <td>202207</td>\n",
              "      <td>7100.0</td>\n",
              "      <td>1.20</td>\n",
              "      <td>5916.67</td>\n",
              "      <td>5.80</td>\n",
              "      <td>5.76</td>\n",
              "      <td>72.4</td>\n",
              "      <td>4.17024</td>\n",
              "    </tr>\n",
              "  </tbody>\n",
              "</table>\n",
              "<p>20059 rows × 17 columns</p>\n",
              "</div>\n",
              "      <button class=\"colab-df-convert\" onclick=\"convertToInteractive('df-9db45b37-86b6-420c-936c-57fa6cd0db4e')\"\n",
              "              title=\"Convert this dataframe to an interactive table.\"\n",
              "              style=\"display:none;\">\n",
              "        \n",
              "  <svg xmlns=\"http://www.w3.org/2000/svg\" height=\"24px\"viewBox=\"0 0 24 24\"\n",
              "       width=\"24px\">\n",
              "    <path d=\"M0 0h24v24H0V0z\" fill=\"none\"/>\n",
              "    <path d=\"M18.56 5.44l.94 2.06.94-2.06 2.06-.94-2.06-.94-.94-2.06-.94 2.06-2.06.94zm-11 1L8.5 8.5l.94-2.06 2.06-.94-2.06-.94L8.5 2.5l-.94 2.06-2.06.94zm10 10l.94 2.06.94-2.06 2.06-.94-2.06-.94-.94-2.06-.94 2.06-2.06.94z\"/><path d=\"M17.41 7.96l-1.37-1.37c-.4-.4-.92-.59-1.43-.59-.52 0-1.04.2-1.43.59L10.3 9.45l-7.72 7.72c-.78.78-.78 2.05 0 2.83L4 21.41c.39.39.9.59 1.41.59.51 0 1.02-.2 1.41-.59l7.78-7.78 2.81-2.81c.8-.78.8-2.07 0-2.86zM5.41 20L4 18.59l7.72-7.72 1.47 1.35L5.41 20z\"/>\n",
              "  </svg>\n",
              "      </button>\n",
              "      \n",
              "  <style>\n",
              "    .colab-df-container {\n",
              "      display:flex;\n",
              "      flex-wrap:wrap;\n",
              "      gap: 12px;\n",
              "    }\n",
              "\n",
              "    .colab-df-convert {\n",
              "      background-color: #E8F0FE;\n",
              "      border: none;\n",
              "      border-radius: 50%;\n",
              "      cursor: pointer;\n",
              "      display: none;\n",
              "      fill: #1967D2;\n",
              "      height: 32px;\n",
              "      padding: 0 0 0 0;\n",
              "      width: 32px;\n",
              "    }\n",
              "\n",
              "    .colab-df-convert:hover {\n",
              "      background-color: #E2EBFA;\n",
              "      box-shadow: 0px 1px 2px rgba(60, 64, 67, 0.3), 0px 1px 3px 1px rgba(60, 64, 67, 0.15);\n",
              "      fill: #174EA6;\n",
              "    }\n",
              "\n",
              "    [theme=dark] .colab-df-convert {\n",
              "      background-color: #3B4455;\n",
              "      fill: #D2E3FC;\n",
              "    }\n",
              "\n",
              "    [theme=dark] .colab-df-convert:hover {\n",
              "      background-color: #434B5C;\n",
              "      box-shadow: 0px 1px 3px 1px rgba(0, 0, 0, 0.15);\n",
              "      filter: drop-shadow(0px 1px 2px rgba(0, 0, 0, 0.3));\n",
              "      fill: #FFFFFF;\n",
              "    }\n",
              "  </style>\n",
              "\n",
              "      <script>\n",
              "        const buttonEl =\n",
              "          document.querySelector('#df-9db45b37-86b6-420c-936c-57fa6cd0db4e button.colab-df-convert');\n",
              "        buttonEl.style.display =\n",
              "          google.colab.kernel.accessAllowed ? 'block' : 'none';\n",
              "\n",
              "        async function convertToInteractive(key) {\n",
              "          const element = document.querySelector('#df-9db45b37-86b6-420c-936c-57fa6cd0db4e');\n",
              "          const dataTable =\n",
              "            await google.colab.kernel.invokeFunction('convertToInteractive',\n",
              "                                                     [key], {});\n",
              "          if (!dataTable) return;\n",
              "\n",
              "          const docLinkHtml = 'Like what you see? Visit the ' +\n",
              "            '<a target=\"_blank\" href=https://colab.research.google.com/notebooks/data_table.ipynb>data table notebook</a>'\n",
              "            + ' to learn more about interactive tables.';\n",
              "          element.innerHTML = '';\n",
              "          dataTable['output_type'] = 'display_data';\n",
              "          await google.colab.output.renderOutput(dataTable, element);\n",
              "          const docLink = document.createElement('div');\n",
              "          docLink.innerHTML = docLinkHtml;\n",
              "          element.appendChild(docLink);\n",
              "        }\n",
              "      </script>\n",
              "    </div>\n",
              "  </div>\n",
              "  "
            ]
          },
          "metadata": {},
          "execution_count": 179
        }
      ]
    },
    {
      "cell_type": "code",
      "source": [
        "categories = ['color', 'clarity', 'carat'] #определите по каким группам отпределять инфляцию (к примеру можно добавить каратную группу)"
      ],
      "metadata": {
        "id": "AL0hZheMmfNc"
      },
      "execution_count": null,
      "outputs": []
    },
    {
      "cell_type": "code",
      "source": [
        "df_index = df.groupby(['date'] + categories)[['price_per_carat']]\\\n",
        "             .mean()\\\n",
        "             .reset_index() # индекс цен\n",
        "             \n",
        "date_max = df_index.date.max()"
      ],
      "metadata": {
        "id": "MNnqy_3WmWhw"
      },
      "execution_count": null,
      "outputs": []
    },
    {
      "cell_type": "code",
      "source": [
        "df_index = df_index.merge(df_index.query('date == @date_max')[categories + ['price_per_carat']]\\\n",
        "                          .rename(columns={'price_per_carat': 'price_per_carat_max'}), \n",
        "                          on=categories, how='outer') # сопоставляем группы с максимальной датой"
      ],
      "metadata": {
        "id": "kIybH6NNniml"
      },
      "execution_count": null,
      "outputs": []
    },
    {
      "cell_type": "code",
      "source": [
        "df_index['inflation'] = df_index['price_per_carat_max'] / df_index.price_per_carat # вычисляем инфляцию"
      ],
      "metadata": {
        "id": "embHgrRan8M0"
      },
      "execution_count": null,
      "outputs": []
    },
    {
      "cell_type": "code",
      "source": [
        "df_with_inf = df.merge(df_index[['date'] + categories + ['inflation']], \n",
        "                        on=['date'] + categories, how='left') # соединяем все в одной таблице"
      ],
      "metadata": {
        "id": "nDKdDba4pA7M"
      },
      "execution_count": null,
      "outputs": []
    },
    {
      "cell_type": "code",
      "source": [
        "df_with_inf['inflation'].fillna(1, inplace = True)"
      ],
      "metadata": {
        "id": "R1iMdGc8w3kb"
      },
      "execution_count": null,
      "outputs": []
    },
    {
      "cell_type": "markdown",
      "source": [
        "### Задание 2: Модель"
      ],
      "metadata": {
        "id": "xuPhXT9aESGs"
      }
    },
    {
      "cell_type": "markdown",
      "source": [
        "Определите функцию потерь (MSE или MAE) и аргументируйте выбор.\n",
        "Попробуйте сделать baseline.\n",
        "Используйте LableEncoder для категориальных фичей и **постройте линейную модель**."
      ],
      "metadata": {
        "id": "v3OgAHMiExrW"
      }
    },
    {
      "cell_type": "code",
      "source": [
        "from sklearn.model_selection import train_test_split\n",
        "from sklearn.preprocessing import LabelEncoder\n",
        "from sklearn.metrics import mean_absolute_error as mae\n",
        "from sklearn.linear_model import LinearRegression\n",
        "\n",
        "lbl_e_df = df_with_inf.copy()"
      ],
      "metadata": {
        "id": "BEvWYr1uEKJU"
      },
      "execution_count": null,
      "outputs": []
    },
    {
      "cell_type": "code",
      "source": [
        "cat_col = lbl_e_df.select_dtypes(include=['object']).columns"
      ],
      "metadata": {
        "id": "YQOhxZLoskhP"
      },
      "execution_count": null,
      "outputs": []
    },
    {
      "cell_type": "code",
      "source": [
        "for col in cat_col:\n",
        "  lbl_e_df[col] = lbl_e_df[col].astype('category').cat.codes"
      ],
      "metadata": {
        "id": "SZAK6do_s_KJ"
      },
      "execution_count": null,
      "outputs": []
    },
    {
      "cell_type": "markdown",
      "source": [
        "Выбираем MAE, так как данная метрика более устойчива к выбросам. Так же, минимизируя данную метрику мы сможем предсказать более точную цену на большинстве объектов."
      ],
      "metadata": {
        "id": "H9GQnjPZqhhn"
      }
    },
    {
      "cell_type": "code",
      "source": [
        "X = lbl_e_df.drop(columns=[\"price_per_carat\"], axis = 1)\n",
        "y = lbl_e_df[\"price_per_carat\"]\n",
        "\n",
        "X_train, X_valid, y_train, y_valid = train_test_split(X, y, test_size=0.2, random_state=13)"
      ],
      "metadata": {
        "id": "4HtMsbBgqgNr"
      },
      "execution_count": null,
      "outputs": []
    },
    {
      "cell_type": "code",
      "source": [
        "linear = LinearRegression()"
      ],
      "metadata": {
        "id": "MRjy-0Wmu0Zx"
      },
      "execution_count": null,
      "outputs": []
    },
    {
      "cell_type": "code",
      "source": [
        "linear.fit(X_train, y_train)\n",
        "y_pred = linear.predict(X_valid)"
      ],
      "metadata": {
        "id": "RIFEEMXGu4aW"
      },
      "execution_count": null,
      "outputs": []
    },
    {
      "cell_type": "code",
      "source": [
        "label_mae = mae(y_valid, y_pred)\n",
        "label_mae"
      ],
      "metadata": {
        "colab": {
          "base_uri": "https://localhost:8080/"
        },
        "id": "Oaje9QP2wHNP",
        "outputId": "059115e3-f122-48fe-991b-d122e03b39a5"
      },
      "execution_count": null,
      "outputs": [
        {
          "output_type": "execute_result",
          "data": {
            "text/plain": [
              "1244.947743375925"
            ]
          },
          "metadata": {},
          "execution_count": 318
        }
      ]
    },
    {
      "cell_type": "markdown",
      "source": [
        "Теперь попробуйте OHE или TargetEncoder (сравните их).\n",
        "\n",
        "Нормализуйте данные.\n",
        "\n",
        "Поработайте с пропусками (обратите внимание на то, что у fluor возможен пропуск значения, а возможно отсутствие флуоресценции)\n",
        "\n",
        "Покажите, насколько получилось улучшить результат."
      ],
      "metadata": {
        "id": "Z9kiKhHuFDUD"
      }
    },
    {
      "cell_type": "code",
      "source": [
        "from sklearn.preprocessing import OneHotEncoder\n",
        "from category_encoders import TargetEncoder\n",
        "from sklearn.preprocessing import StandardScaler\n",
        "\n",
        "df_with_inf['cut'].fillna(\"NONE\", inplace = True)\n",
        "\n",
        "oneh_df = df_with_inf.copy()"
      ],
      "metadata": {
        "id": "becHgg71Iria"
      },
      "execution_count": null,
      "outputs": []
    },
    {
      "cell_type": "code",
      "source": [
        "df_with_inf[cat_col].nunique()"
      ],
      "metadata": {
        "colab": {
          "base_uri": "https://localhost:8080/"
        },
        "id": "78fsXw5q2eCb",
        "outputId": "cbe20217-e495-4219-9a0f-d95f6aa954c8"
      },
      "execution_count": null,
      "outputs": [
        {
          "output_type": "execute_result",
          "data": {
            "text/plain": [
              "fluor        4\n",
              "symmetry     4\n",
              "platform     1\n",
              "shape       10\n",
              "color       10\n",
              "clarity      9\n",
              "cut          4\n",
              "polish       3\n",
              "dtype: int64"
            ]
          },
          "metadata": {},
          "execution_count": 320
        }
      ]
    },
    {
      "cell_type": "code",
      "source": [
        "oneh_df = pd.get_dummies(oneh_df, drop_first=True)"
      ],
      "metadata": {
        "id": "4LI5F6OlwowJ"
      },
      "execution_count": null,
      "outputs": []
    },
    {
      "cell_type": "code",
      "source": [
        "oneh_X = oneh_df.drop(columns=[\"price_per_carat\"], axis = 1)\n",
        "oneh_y = oneh_df[\"price_per_carat\"]\n",
        "\n",
        "o_X_train, o_X_valid, o_y_train, o_y_valid = train_test_split(oneh_X, oneh_y, test_size=0.2, random_state=13)"
      ],
      "metadata": {
        "id": "mZ_-pQz3yDKT"
      },
      "execution_count": null,
      "outputs": []
    },
    {
      "cell_type": "code",
      "source": [
        "scaler = StandardScaler() # Помните, что на тесте делаем только transform"
      ],
      "metadata": {
        "id": "f-OuPTPpwdyu"
      },
      "execution_count": null,
      "outputs": []
    },
    {
      "cell_type": "code",
      "source": [
        "scaler.fit(o_X_train)\n",
        "o_X_train_scaled = scaler.transform(o_X_train)\n",
        "o_X_test_scaled = scaler.transform(o_X_valid)"
      ],
      "metadata": {
        "id": "Jk4ju2rsyUhN"
      },
      "execution_count": null,
      "outputs": []
    },
    {
      "cell_type": "code",
      "source": [
        "import time\n",
        "\n",
        "linear_start = time.time()\n",
        "\n",
        "linear.fit(o_X_train_scaled, y_train)\n",
        "y_pred = linear.predict(o_X_test_scaled)\n",
        "\n",
        "linear_stop = time.time()\n",
        "print('Время выполнения:', round(linear_stop -  linear_start,1))"
      ],
      "metadata": {
        "colab": {
          "base_uri": "https://localhost:8080/"
        },
        "id": "SU5LGPgLyJag",
        "outputId": "bd1d13f2-545e-415d-cbfa-01bfa3cd0a3b"
      },
      "execution_count": null,
      "outputs": [
        {
          "output_type": "stream",
          "name": "stdout",
          "text": [
            "Время выполнения: 0.4\n"
          ]
        }
      ]
    },
    {
      "cell_type": "code",
      "source": [
        "oneh_mae = mae(y_valid, y_pred)\n",
        "oneh_mae"
      ],
      "metadata": {
        "colab": {
          "base_uri": "https://localhost:8080/"
        },
        "id": "H_IL9FueywyR",
        "outputId": "d97e9241-05c0-4c2a-c509-f9831eb2cfc2"
      },
      "execution_count": null,
      "outputs": [
        {
          "output_type": "execute_result",
          "data": {
            "text/plain": [
              "849.5046386516367"
            ]
          },
          "metadata": {},
          "execution_count": 379
        }
      ]
    },
    {
      "cell_type": "markdown",
      "source": [
        "МАЕ метрика улучшилась на 30%"
      ],
      "metadata": {
        "id": "zVQML4D2zIuG"
      }
    },
    {
      "cell_type": "code",
      "source": [
        "target_df = df_with_inf.copy()\n",
        "\n",
        "X = target_df.drop(columns=[\"price_per_carat\"], axis = 1)\n",
        "y = target_df[\"price_per_carat\"]\n",
        "\n",
        "X_train, X_valid, y_train, y_valid = train_test_split(X, y, test_size=0.2, random_state=13)"
      ],
      "metadata": {
        "id": "lzDsCpoe0bwG"
      },
      "execution_count": null,
      "outputs": []
    },
    {
      "cell_type": "code",
      "source": [
        "target = TargetEncoder()"
      ],
      "metadata": {
        "id": "ARj4Ho90yzr1"
      },
      "execution_count": null,
      "outputs": []
    },
    {
      "cell_type": "code",
      "source": [
        "target.fit(X_train, y_train)\n"
      ],
      "metadata": {
        "colab": {
          "base_uri": "https://localhost:8080/"
        },
        "id": "T1IytqM60No-",
        "outputId": "1fa30b78-5920-4572-d83e-877c1477dcef"
      },
      "execution_count": null,
      "outputs": [
        {
          "output_type": "execute_result",
          "data": {
            "text/plain": [
              "TargetEncoder(cols=['fluor', 'symmetry', 'platform', 'shape', 'color',\n",
              "                    'clarity', 'cut', 'polish'])"
            ]
          },
          "metadata": {},
          "execution_count": 329
        }
      ]
    },
    {
      "cell_type": "code",
      "source": [
        "X_train_scaled = target.transform(X_train)\n",
        "X_test_scaled = target.transform(X_valid)\n",
        "\n",
        "scaler.fit(X_train_scaled)\n",
        "X_train_scaled = scaler.transform(X_train_scaled)\n",
        "X_test_scaled = scaler.transform(X_test_scaled)"
      ],
      "metadata": {
        "id": "t-iEcPWp0iI5"
      },
      "execution_count": null,
      "outputs": []
    },
    {
      "cell_type": "code",
      "source": [
        "linear.fit(X_train_scaled, y_train)\n",
        "y_pred = linear.predict(X_test_scaled)"
      ],
      "metadata": {
        "id": "2-9aMbXh0pCp"
      },
      "execution_count": null,
      "outputs": []
    },
    {
      "cell_type": "code",
      "source": [
        "target_mae = mae(y_valid, y_pred)\n",
        "target_mae"
      ],
      "metadata": {
        "colab": {
          "base_uri": "https://localhost:8080/"
        },
        "id": "XsjzWqNR0pxb",
        "outputId": "fb9838ea-196f-4413-9fbe-0ad28fc466a1"
      },
      "execution_count": null,
      "outputs": [
        {
          "output_type": "execute_result",
          "data": {
            "text/plain": [
              "1037.3567427426806"
            ]
          },
          "metadata": {},
          "execution_count": 333
        }
      ]
    },
    {
      "cell_type": "code",
      "source": [
        "print('MAE label encoder: {} \\nMAE OneHot encoder: {} | Percentage: {} \\nMAE Target encoder: {} | Percentage {}'.format(\n",
        "    label_mae, \n",
        "    oneh_mae,\n",
        "     round((oneh_mae - label_mae)/label_mae * -100, 1), \n",
        "     target_mae, \n",
        "     round((target_mae - label_mae)/label_mae * -100, 1)\n",
        "     )\n",
        ")"
      ],
      "metadata": {
        "colab": {
          "base_uri": "https://localhost:8080/"
        },
        "id": "s6o7vCV-NYvQ",
        "outputId": "1827593a-1e6d-4b7e-823d-059270e3953e"
      },
      "execution_count": null,
      "outputs": [
        {
          "output_type": "stream",
          "name": "stdout",
          "text": [
            "MAE label encoder: 1244.947743375925 \n",
            "MAE OneHot encoder: 849.5046386516367 | Percentage: 31.8 \n",
            "MAE Target encoder: 1037.3567427426806 | Percentage 16.7\n"
          ]
        }
      ]
    },
    {
      "cell_type": "markdown",
      "source": [
        "Target encoder отработал хуже, чем OneHot"
      ],
      "metadata": {
        "id": "rnGhSsAiMksI"
      }
    },
    {
      "cell_type": "markdown",
      "source": [
        "Сравните работу выбранной вами линейной модели с KNN"
      ],
      "metadata": {
        "id": "tnJUqYqWoqgk"
      }
    },
    {
      "cell_type": "code",
      "source": [
        "from sklearn.neighbors import KNeighborsRegressor\n",
        "\n",
        "knn = KNeighborsRegressor(n_neighbors=5)"
      ],
      "metadata": {
        "id": "bhKgkdw5ou4A"
      },
      "execution_count": null,
      "outputs": []
    },
    {
      "cell_type": "code",
      "source": [
        "knn_start = time.time()\n",
        "\n",
        "knn.fit(o_X_train_scaled, y_train)\n",
        "y_pred = knn.predict(o_X_test_scaled)\n",
        "\n",
        "knn_stop = time.time()\n",
        "print('Время выполнения:', round(knn_stop -  knn_start,1))"
      ],
      "metadata": {
        "colab": {
          "base_uri": "https://localhost:8080/"
        },
        "id": "FKMJn2E1y9QE",
        "outputId": "4ad97904-0db7-4989-c72c-4bec54861665"
      },
      "execution_count": null,
      "outputs": [
        {
          "output_type": "stream",
          "name": "stdout",
          "text": [
            "Время выполнения: 79.7\n"
          ]
        }
      ]
    },
    {
      "cell_type": "code",
      "source": [
        "knn_mae = mae(y_valid, y_pred)\n",
        "knn_mae"
      ],
      "metadata": {
        "colab": {
          "base_uri": "https://localhost:8080/"
        },
        "id": "AE6Bk6QKRbQ1",
        "outputId": "e9cc59cb-2e26-4d6e-c3d0-2dd2aa5c8d8f"
      },
      "execution_count": null,
      "outputs": [
        {
          "output_type": "execute_result",
          "data": {
            "text/plain": [
              "828.5600997493925"
            ]
          },
          "metadata": {},
          "execution_count": 399
        }
      ]
    },
    {
      "cell_type": "code",
      "source": [
        "print(\"MAE linear: {} | Время выполнения: {} \\nMAE knn: {} | Время выполнения: {}\".format(\n",
        "    round(oneh_mae, 2),\n",
        "    str(round(linear_stop -  linear_start, 1)) + ' sec',\n",
        "    round(knn_mae, 2),\n",
        "    str(round(knn_stop -  knn_start, 1)) + ' sec',\n",
        "     )\n",
        ")"
      ],
      "metadata": {
        "colab": {
          "base_uri": "https://localhost:8080/"
        },
        "id": "2Z31fgjYUM4R",
        "outputId": "29c1abeb-4bbc-4924-aaa4-f8a67a1a4c5e"
      },
      "execution_count": null,
      "outputs": [
        {
          "output_type": "stream",
          "name": "stdout",
          "text": [
            "MAE linear: 849.5 | Время выполнения: 0.4 sec \n",
            "MAE knn: 828.56 | Время выполнения: 79.7 sec\n"
          ]
        }
      ]
    },
    {
      "cell_type": "markdown",
      "source": [
        "KNN оказался немного точнее, однако врмя на расчет оказалось значительно выше"
      ],
      "metadata": {
        "id": "0zF6r2UTT2ZZ"
      }
    },
    {
      "cell_type": "markdown",
      "source": [
        "## Классификация"
      ],
      "metadata": {
        "id": "fLAsZpEeIsyk"
      }
    },
    {
      "cell_type": "markdown",
      "source": [
        "Загрузите датасет bodyPerformance\n",
        "\n",
        "Описание:\n",
        "\n",
        "https://www.kaggle.com/datasets/kukuroo3/body-performance-data"
      ],
      "metadata": {
        "id": "exzgWs8TGVwz"
      }
    },
    {
      "cell_type": "code",
      "source": [
        "from google.colab import drive\n",
        "drive.mount('/content/drive')\n",
        "\n",
        "path = 'drive/MyDrive/'"
      ],
      "metadata": {
        "id": "HiRlpeObIw30"
      },
      "execution_count": null,
      "outputs": []
    },
    {
      "cell_type": "code",
      "source": [
        "df = pd.read_csv(path + '/bodyPerformance.csv') #укажите свой путь"
      ],
      "metadata": {
        "id": "8icMo8BR8eJL"
      },
      "execution_count": null,
      "outputs": []
    },
    {
      "cell_type": "code",
      "source": [
        "df = pd.get_dummies(df, drop_first=True)"
      ],
      "metadata": {
        "id": "gHZ-NFO8Wa5n"
      },
      "execution_count": null,
      "outputs": []
    },
    {
      "cell_type": "code",
      "source": [
        "df"
      ],
      "metadata": {
        "id": "yKvrcXtB3AQf",
        "colab": {
          "base_uri": "https://localhost:8080/",
          "height": 423
        },
        "outputId": "7604dcb7-afb9-4ae8-e5d9-e1843bddda31"
      },
      "execution_count": null,
      "outputs": [
        {
          "output_type": "execute_result",
          "data": {
            "text/plain": [
              "        age  height_cm  weight_kg  body fat_%  diastolic  systolic  gripForce  \\\n",
              "0      27.0      172.3      75.24        21.3       80.0     130.0       54.9   \n",
              "1      25.0      165.0      55.80        15.7       77.0     126.0       36.4   \n",
              "2      31.0      179.6      78.00        20.1       92.0     152.0       44.8   \n",
              "3      32.0      174.5      71.10        18.4       76.0     147.0       41.4   \n",
              "4      28.0      173.8      67.70        17.1       70.0     127.0       43.5   \n",
              "...     ...        ...        ...         ...        ...       ...        ...   \n",
              "13388  25.0      172.1      71.80        16.2       74.0     141.0       35.8   \n",
              "13389  21.0      179.7      63.90        12.1       74.0     128.0       33.0   \n",
              "13390  39.0      177.2      80.50        20.1       78.0     132.0       63.5   \n",
              "13391  64.0      146.1      57.70        40.4       68.0     121.0       19.3   \n",
              "13392  34.0      164.0      66.10        19.5       82.0     150.0       35.9   \n",
              "\n",
              "       sit and bend forward_cm  sit-ups counts  broad jump_cm  gender_M  \\\n",
              "0                         18.4            60.0          217.0         1   \n",
              "1                         16.3            53.0          229.0         1   \n",
              "2                         12.0            49.0          181.0         1   \n",
              "3                         15.2            53.0          219.0         1   \n",
              "4                         27.1            45.0          217.0         1   \n",
              "...                        ...             ...            ...       ...   \n",
              "13388                     17.4            47.0          198.0         1   \n",
              "13389                      1.1            48.0          167.0         1   \n",
              "13390                     16.4            45.0          229.0         1   \n",
              "13391                      9.2             0.0           75.0         0   \n",
              "13392                      7.1            51.0          180.0         1   \n",
              "\n",
              "       class_B  class_C  class_D  \n",
              "0            0        1        0  \n",
              "1            0        0        0  \n",
              "2            0        1        0  \n",
              "3            1        0        0  \n",
              "4            1        0        0  \n",
              "...        ...      ...      ...  \n",
              "13388        0        1        0  \n",
              "13389        0        0        1  \n",
              "13390        0        0        0  \n",
              "13391        0        0        1  \n",
              "13392        0        1        0  \n",
              "\n",
              "[13393 rows x 14 columns]"
            ],
            "text/html": [
              "\n",
              "  <div id=\"df-3a3e11f9-a25c-4b36-830b-9bbd2136b8d4\">\n",
              "    <div class=\"colab-df-container\">\n",
              "      <div>\n",
              "<style scoped>\n",
              "    .dataframe tbody tr th:only-of-type {\n",
              "        vertical-align: middle;\n",
              "    }\n",
              "\n",
              "    .dataframe tbody tr th {\n",
              "        vertical-align: top;\n",
              "    }\n",
              "\n",
              "    .dataframe thead th {\n",
              "        text-align: right;\n",
              "    }\n",
              "</style>\n",
              "<table border=\"1\" class=\"dataframe\">\n",
              "  <thead>\n",
              "    <tr style=\"text-align: right;\">\n",
              "      <th></th>\n",
              "      <th>age</th>\n",
              "      <th>height_cm</th>\n",
              "      <th>weight_kg</th>\n",
              "      <th>body fat_%</th>\n",
              "      <th>diastolic</th>\n",
              "      <th>systolic</th>\n",
              "      <th>gripForce</th>\n",
              "      <th>sit and bend forward_cm</th>\n",
              "      <th>sit-ups counts</th>\n",
              "      <th>broad jump_cm</th>\n",
              "      <th>gender_M</th>\n",
              "      <th>class_B</th>\n",
              "      <th>class_C</th>\n",
              "      <th>class_D</th>\n",
              "    </tr>\n",
              "  </thead>\n",
              "  <tbody>\n",
              "    <tr>\n",
              "      <th>0</th>\n",
              "      <td>27.0</td>\n",
              "      <td>172.3</td>\n",
              "      <td>75.24</td>\n",
              "      <td>21.3</td>\n",
              "      <td>80.0</td>\n",
              "      <td>130.0</td>\n",
              "      <td>54.9</td>\n",
              "      <td>18.4</td>\n",
              "      <td>60.0</td>\n",
              "      <td>217.0</td>\n",
              "      <td>1</td>\n",
              "      <td>0</td>\n",
              "      <td>1</td>\n",
              "      <td>0</td>\n",
              "    </tr>\n",
              "    <tr>\n",
              "      <th>1</th>\n",
              "      <td>25.0</td>\n",
              "      <td>165.0</td>\n",
              "      <td>55.80</td>\n",
              "      <td>15.7</td>\n",
              "      <td>77.0</td>\n",
              "      <td>126.0</td>\n",
              "      <td>36.4</td>\n",
              "      <td>16.3</td>\n",
              "      <td>53.0</td>\n",
              "      <td>229.0</td>\n",
              "      <td>1</td>\n",
              "      <td>0</td>\n",
              "      <td>0</td>\n",
              "      <td>0</td>\n",
              "    </tr>\n",
              "    <tr>\n",
              "      <th>2</th>\n",
              "      <td>31.0</td>\n",
              "      <td>179.6</td>\n",
              "      <td>78.00</td>\n",
              "      <td>20.1</td>\n",
              "      <td>92.0</td>\n",
              "      <td>152.0</td>\n",
              "      <td>44.8</td>\n",
              "      <td>12.0</td>\n",
              "      <td>49.0</td>\n",
              "      <td>181.0</td>\n",
              "      <td>1</td>\n",
              "      <td>0</td>\n",
              "      <td>1</td>\n",
              "      <td>0</td>\n",
              "    </tr>\n",
              "    <tr>\n",
              "      <th>3</th>\n",
              "      <td>32.0</td>\n",
              "      <td>174.5</td>\n",
              "      <td>71.10</td>\n",
              "      <td>18.4</td>\n",
              "      <td>76.0</td>\n",
              "      <td>147.0</td>\n",
              "      <td>41.4</td>\n",
              "      <td>15.2</td>\n",
              "      <td>53.0</td>\n",
              "      <td>219.0</td>\n",
              "      <td>1</td>\n",
              "      <td>1</td>\n",
              "      <td>0</td>\n",
              "      <td>0</td>\n",
              "    </tr>\n",
              "    <tr>\n",
              "      <th>4</th>\n",
              "      <td>28.0</td>\n",
              "      <td>173.8</td>\n",
              "      <td>67.70</td>\n",
              "      <td>17.1</td>\n",
              "      <td>70.0</td>\n",
              "      <td>127.0</td>\n",
              "      <td>43.5</td>\n",
              "      <td>27.1</td>\n",
              "      <td>45.0</td>\n",
              "      <td>217.0</td>\n",
              "      <td>1</td>\n",
              "      <td>1</td>\n",
              "      <td>0</td>\n",
              "      <td>0</td>\n",
              "    </tr>\n",
              "    <tr>\n",
              "      <th>...</th>\n",
              "      <td>...</td>\n",
              "      <td>...</td>\n",
              "      <td>...</td>\n",
              "      <td>...</td>\n",
              "      <td>...</td>\n",
              "      <td>...</td>\n",
              "      <td>...</td>\n",
              "      <td>...</td>\n",
              "      <td>...</td>\n",
              "      <td>...</td>\n",
              "      <td>...</td>\n",
              "      <td>...</td>\n",
              "      <td>...</td>\n",
              "      <td>...</td>\n",
              "    </tr>\n",
              "    <tr>\n",
              "      <th>13388</th>\n",
              "      <td>25.0</td>\n",
              "      <td>172.1</td>\n",
              "      <td>71.80</td>\n",
              "      <td>16.2</td>\n",
              "      <td>74.0</td>\n",
              "      <td>141.0</td>\n",
              "      <td>35.8</td>\n",
              "      <td>17.4</td>\n",
              "      <td>47.0</td>\n",
              "      <td>198.0</td>\n",
              "      <td>1</td>\n",
              "      <td>0</td>\n",
              "      <td>1</td>\n",
              "      <td>0</td>\n",
              "    </tr>\n",
              "    <tr>\n",
              "      <th>13389</th>\n",
              "      <td>21.0</td>\n",
              "      <td>179.7</td>\n",
              "      <td>63.90</td>\n",
              "      <td>12.1</td>\n",
              "      <td>74.0</td>\n",
              "      <td>128.0</td>\n",
              "      <td>33.0</td>\n",
              "      <td>1.1</td>\n",
              "      <td>48.0</td>\n",
              "      <td>167.0</td>\n",
              "      <td>1</td>\n",
              "      <td>0</td>\n",
              "      <td>0</td>\n",
              "      <td>1</td>\n",
              "    </tr>\n",
              "    <tr>\n",
              "      <th>13390</th>\n",
              "      <td>39.0</td>\n",
              "      <td>177.2</td>\n",
              "      <td>80.50</td>\n",
              "      <td>20.1</td>\n",
              "      <td>78.0</td>\n",
              "      <td>132.0</td>\n",
              "      <td>63.5</td>\n",
              "      <td>16.4</td>\n",
              "      <td>45.0</td>\n",
              "      <td>229.0</td>\n",
              "      <td>1</td>\n",
              "      <td>0</td>\n",
              "      <td>0</td>\n",
              "      <td>0</td>\n",
              "    </tr>\n",
              "    <tr>\n",
              "      <th>13391</th>\n",
              "      <td>64.0</td>\n",
              "      <td>146.1</td>\n",
              "      <td>57.70</td>\n",
              "      <td>40.4</td>\n",
              "      <td>68.0</td>\n",
              "      <td>121.0</td>\n",
              "      <td>19.3</td>\n",
              "      <td>9.2</td>\n",
              "      <td>0.0</td>\n",
              "      <td>75.0</td>\n",
              "      <td>0</td>\n",
              "      <td>0</td>\n",
              "      <td>0</td>\n",
              "      <td>1</td>\n",
              "    </tr>\n",
              "    <tr>\n",
              "      <th>13392</th>\n",
              "      <td>34.0</td>\n",
              "      <td>164.0</td>\n",
              "      <td>66.10</td>\n",
              "      <td>19.5</td>\n",
              "      <td>82.0</td>\n",
              "      <td>150.0</td>\n",
              "      <td>35.9</td>\n",
              "      <td>7.1</td>\n",
              "      <td>51.0</td>\n",
              "      <td>180.0</td>\n",
              "      <td>1</td>\n",
              "      <td>0</td>\n",
              "      <td>1</td>\n",
              "      <td>0</td>\n",
              "    </tr>\n",
              "  </tbody>\n",
              "</table>\n",
              "<p>13393 rows × 14 columns</p>\n",
              "</div>\n",
              "      <button class=\"colab-df-convert\" onclick=\"convertToInteractive('df-3a3e11f9-a25c-4b36-830b-9bbd2136b8d4')\"\n",
              "              title=\"Convert this dataframe to an interactive table.\"\n",
              "              style=\"display:none;\">\n",
              "        \n",
              "  <svg xmlns=\"http://www.w3.org/2000/svg\" height=\"24px\"viewBox=\"0 0 24 24\"\n",
              "       width=\"24px\">\n",
              "    <path d=\"M0 0h24v24H0V0z\" fill=\"none\"/>\n",
              "    <path d=\"M18.56 5.44l.94 2.06.94-2.06 2.06-.94-2.06-.94-.94-2.06-.94 2.06-2.06.94zm-11 1L8.5 8.5l.94-2.06 2.06-.94-2.06-.94L8.5 2.5l-.94 2.06-2.06.94zm10 10l.94 2.06.94-2.06 2.06-.94-2.06-.94-.94-2.06-.94 2.06-2.06.94z\"/><path d=\"M17.41 7.96l-1.37-1.37c-.4-.4-.92-.59-1.43-.59-.52 0-1.04.2-1.43.59L10.3 9.45l-7.72 7.72c-.78.78-.78 2.05 0 2.83L4 21.41c.39.39.9.59 1.41.59.51 0 1.02-.2 1.41-.59l7.78-7.78 2.81-2.81c.8-.78.8-2.07 0-2.86zM5.41 20L4 18.59l7.72-7.72 1.47 1.35L5.41 20z\"/>\n",
              "  </svg>\n",
              "      </button>\n",
              "      \n",
              "  <style>\n",
              "    .colab-df-container {\n",
              "      display:flex;\n",
              "      flex-wrap:wrap;\n",
              "      gap: 12px;\n",
              "    }\n",
              "\n",
              "    .colab-df-convert {\n",
              "      background-color: #E8F0FE;\n",
              "      border: none;\n",
              "      border-radius: 50%;\n",
              "      cursor: pointer;\n",
              "      display: none;\n",
              "      fill: #1967D2;\n",
              "      height: 32px;\n",
              "      padding: 0 0 0 0;\n",
              "      width: 32px;\n",
              "    }\n",
              "\n",
              "    .colab-df-convert:hover {\n",
              "      background-color: #E2EBFA;\n",
              "      box-shadow: 0px 1px 2px rgba(60, 64, 67, 0.3), 0px 1px 3px 1px rgba(60, 64, 67, 0.15);\n",
              "      fill: #174EA6;\n",
              "    }\n",
              "\n",
              "    [theme=dark] .colab-df-convert {\n",
              "      background-color: #3B4455;\n",
              "      fill: #D2E3FC;\n",
              "    }\n",
              "\n",
              "    [theme=dark] .colab-df-convert:hover {\n",
              "      background-color: #434B5C;\n",
              "      box-shadow: 0px 1px 3px 1px rgba(0, 0, 0, 0.15);\n",
              "      filter: drop-shadow(0px 1px 2px rgba(0, 0, 0, 0.3));\n",
              "      fill: #FFFFFF;\n",
              "    }\n",
              "  </style>\n",
              "\n",
              "      <script>\n",
              "        const buttonEl =\n",
              "          document.querySelector('#df-3a3e11f9-a25c-4b36-830b-9bbd2136b8d4 button.colab-df-convert');\n",
              "        buttonEl.style.display =\n",
              "          google.colab.kernel.accessAllowed ? 'block' : 'none';\n",
              "\n",
              "        async function convertToInteractive(key) {\n",
              "          const element = document.querySelector('#df-3a3e11f9-a25c-4b36-830b-9bbd2136b8d4');\n",
              "          const dataTable =\n",
              "            await google.colab.kernel.invokeFunction('convertToInteractive',\n",
              "                                                     [key], {});\n",
              "          if (!dataTable) return;\n",
              "\n",
              "          const docLinkHtml = 'Like what you see? Visit the ' +\n",
              "            '<a target=\"_blank\" href=https://colab.research.google.com/notebooks/data_table.ipynb>data table notebook</a>'\n",
              "            + ' to learn more about interactive tables.';\n",
              "          element.innerHTML = '';\n",
              "          dataTable['output_type'] = 'display_data';\n",
              "          await google.colab.output.renderOutput(dataTable, element);\n",
              "          const docLink = document.createElement('div');\n",
              "          docLink.innerHTML = docLinkHtml;\n",
              "          element.appendChild(docLink);\n",
              "        }\n",
              "      </script>\n",
              "    </div>\n",
              "  </div>\n",
              "  "
            ]
          },
          "metadata": {},
          "execution_count": 416
        }
      ]
    },
    {
      "cell_type": "markdown",
      "source": [
        "### Задание 1: Определение гендера"
      ],
      "metadata": {
        "id": "mIT8KyvrGFI7"
      }
    },
    {
      "cell_type": "markdown",
      "source": [
        "Постройте модель, которая будет определять гендер."
      ],
      "metadata": {
        "id": "P7hR4HE2GOjH"
      }
    },
    {
      "cell_type": "markdown",
      "source": [
        "Для этого определите две метрики качества, на которые вы будете смотреть. Аргументируйте свой выбор.\n",
        "\n",
        "После чего преобразуйте категориальные переменные и постройте модель бинарной классификации на основе линейного классификатора и сравните с KNN.\n",
        "\n",
        "P.S.: не забудте про нормализацию."
      ],
      "metadata": {
        "id": "aAQJ1WhfGhQf"
      }
    },
    {
      "cell_type": "code",
      "source": [
        "from sklearn.neighbors import KNeighborsClassifier\n",
        "from sklearn.linear_model import LogisticRegression\n",
        "from sklearn.metrics import  f1_score, roc_curve, auc\n",
        "\n",
        "X = df.drop(columns=[\"gender_M\"], axis = 1)\n",
        "y = df[\"gender_M\"]\n",
        "\n",
        "X_train, X_valid, y_train, y_valid = train_test_split(X, y, test_size=0.2, random_state=13)\n",
        "\n",
        "scaler = StandardScaler()"
      ],
      "metadata": {
        "id": "Mhj3I_MuBbFy"
      },
      "execution_count": null,
      "outputs": []
    },
    {
      "cell_type": "code",
      "source": [
        "scaler.fit(X_train)\n",
        "\n",
        "scaler.transform(X_train)\n",
        "scaler.transform(X_valid)"
      ],
      "metadata": {
        "colab": {
          "base_uri": "https://localhost:8080/"
        },
        "id": "FiUKXW2zV3Ti",
        "outputId": "0a64ccfd-14a5-4629-d9c7-5b8c611ab626"
      },
      "execution_count": null,
      "outputs": [
        {
          "output_type": "execute_result",
          "data": {
            "text/plain": [
              "array([[-0.50344497,  1.12141406,  0.35110283, ...,  1.74136938,\n",
              "        -0.58015243, -0.57598512],\n",
              "       [-1.09144916,  1.1095389 ,  1.15503999, ..., -0.5742607 ,\n",
              "         1.72368492, -0.57598512],\n",
              "       [-0.35644392,  0.50390602,  0.60233319, ..., -0.5742607 ,\n",
              "        -0.58015243, -0.57598512],\n",
              "       ...,\n",
              "       [-1.16494968,  1.19266499,  0.45159498, ..., -0.5742607 ,\n",
              "        -0.58015243,  1.73615597],\n",
              "       [-0.42994445,  1.41829292,  1.89198238, ...,  1.74136938,\n",
              "        -0.58015243, -0.57598512],\n",
              "       [ 1.18706707, -2.42925718, -1.62524268, ..., -0.5742607 ,\n",
              "        -0.58015243, -0.57598512]])"
            ]
          },
          "metadata": {},
          "execution_count": 420
        }
      ]
    },
    {
      "cell_type": "code",
      "source": [
        "logi = LogisticRegression()"
      ],
      "metadata": {
        "id": "xPBMbhv0Wu_8"
      },
      "execution_count": null,
      "outputs": []
    },
    {
      "cell_type": "code",
      "source": [
        "logi.fit(X_train, y_train)\n",
        "\n",
        "y_pred_train = logi.predict(X_train)\n",
        "y_pred_test = logi.predict(X_valid)\n",
        "y_pred_test_prob = logi.predict_proba(X_valid)"
      ],
      "metadata": {
        "colab": {
          "base_uri": "https://localhost:8080/"
        },
        "id": "-j3a50HzW_my",
        "outputId": "69e12530-0278-4e7a-da98-a57093fd08b3"
      },
      "execution_count": null,
      "outputs": [
        {
          "output_type": "stream",
          "name": "stderr",
          "text": [
            "/usr/local/lib/python3.8/dist-packages/sklearn/linear_model/_logistic.py:814: ConvergenceWarning: lbfgs failed to converge (status=1):\n",
            "STOP: TOTAL NO. of ITERATIONS REACHED LIMIT.\n",
            "\n",
            "Increase the number of iterations (max_iter) or scale the data as shown in:\n",
            "    https://scikit-learn.org/stable/modules/preprocessing.html\n",
            "Please also refer to the documentation for alternative solver options:\n",
            "    https://scikit-learn.org/stable/modules/linear_model.html#logistic-regression\n",
            "  n_iter_i = _check_optimize_result(\n"
          ]
        }
      ]
    },
    {
      "cell_type": "markdown",
      "source": [
        "Так как у нас довольно абстрактная задача классификации, в качестве метрик возьмем среднегармоническое точности и полноты (f1-score)."
      ],
      "metadata": {
        "id": "hYretCY2YUiT"
      }
    },
    {
      "cell_type": "code",
      "source": [
        "print(f\"F1 Train: {f1_score(y_train, y_pred_train)}\")\n",
        "print(f\"F1 Test: {f1_score(y_valid, y_pred_test)}\")"
      ],
      "metadata": {
        "colab": {
          "base_uri": "https://localhost:8080/"
        },
        "id": "swUxp5EYW_pB",
        "outputId": "2c42403f-146d-4166-db01-b79c845c817b"
      },
      "execution_count": null,
      "outputs": [
        {
          "output_type": "stream",
          "name": "stdout",
          "text": [
            "F1 Train: 0.987431613189413\n",
            "F1 Test: 0.989209682123068\n"
          ]
        }
      ]
    },
    {
      "cell_type": "code",
      "source": [
        "knn_clf = KNeighborsClassifier(n_neighbors = 10)"
      ],
      "metadata": {
        "id": "4qQuWiExcZn3"
      },
      "execution_count": null,
      "outputs": []
    },
    {
      "cell_type": "code",
      "source": [
        "knn_clf.fit(X_train, y_train)\n",
        "\n",
        "knn_y_pred_train = knn_clf.predict(X_train)\n",
        "knn_y_pred_test = knn_clf.predict(X_valid)"
      ],
      "metadata": {
        "id": "G9uegLDxclPA"
      },
      "execution_count": null,
      "outputs": []
    },
    {
      "cell_type": "code",
      "source": [
        "print(f\"F1 Train: {f1_score(y_train, knn_y_pred_train)}\")\n",
        "print(f\"F1 Test: {f1_score(y_valid, knn_y_pred_test)}\")"
      ],
      "metadata": {
        "colab": {
          "base_uri": "https://localhost:8080/"
        },
        "id": "H3MgG038c4Tg",
        "outputId": "d3181c51-a7a1-496b-e111-f36c4f62556d"
      },
      "execution_count": null,
      "outputs": [
        {
          "output_type": "stream",
          "name": "stdout",
          "text": [
            "F1 Train: 0.9854813491177128\n",
            "F1 Test: 0.987980064497215\n"
          ]
        }
      ]
    },
    {
      "cell_type": "markdown",
      "source": [
        "### Задание 2: Определение класса"
      ],
      "metadata": {
        "id": "9m0SK6JzKHof"
      }
    },
    {
      "cell_type": "markdown",
      "source": [
        "Теперь опробуем построить модель, которая будет предсказывать class физической формы.\n",
        "\n",
        "Для этого определите метрики качества для задачи мультиклассификации (аргументируйте выбор).\n",
        "\n",
        "Постройте модель мультиклассовой классификации на основе линейного классификатора и сравните с KNN."
      ],
      "metadata": {
        "id": "s5Hge2C2JSxG"
      }
    },
    {
      "cell_type": "code",
      "source": [
        "df = pd.read_csv(path + '/bodyPerformance.csv') #укажите свой путь"
      ],
      "metadata": {
        "id": "B2Viw43scUOc"
      },
      "execution_count": null,
      "outputs": []
    },
    {
      "cell_type": "code",
      "source": [
        "df.replace({\"gender\": {\"M\": 1, \"F\": 0}}, inplace = True)"
      ],
      "metadata": {
        "id": "8ZdD3p5LeRd6"
      },
      "execution_count": null,
      "outputs": []
    },
    {
      "cell_type": "code",
      "source": [
        "X = df.drop(columns=[\"class\"]) # укажите новый таргет\n",
        "y = df[\"class\"]\n",
        "\n",
        "X_train, X_valid, y_train, y_valid = train_test_split(X, y, test_size=0.2, random_state=13)"
      ],
      "metadata": {
        "id": "dgvhCM7HKDWu"
      },
      "execution_count": null,
      "outputs": []
    },
    {
      "cell_type": "code",
      "source": [
        "scaler.fit(X_train)\n",
        "\n",
        "scaler.transform(X_train)\n",
        "scaler.transform(X_valid)"
      ],
      "metadata": {
        "id": "mb2_B3ijrMJR",
        "colab": {
          "base_uri": "https://localhost:8080/"
        },
        "outputId": "da77c50a-8a99-47a8-e900-0200f6887827"
      },
      "execution_count": null,
      "outputs": [
        {
          "output_type": "execute_result",
          "data": {
            "text/plain": [
              "array([[-0.50344497, -1.30649251,  1.12141406, ...,  1.45906131,\n",
              "        -0.68075408,  0.19914104],\n",
              "       [-1.09144916,  0.76540814,  1.1095389 , ..., -0.4407566 ,\n",
              "         0.57726913,  1.4767606 ],\n",
              "       [-0.35644392,  0.76540814,  0.50390602, ...,  0.10887625,\n",
              "         1.34606108,  1.45170923],\n",
              "       ...,\n",
              "       [-1.16494968,  0.76540814,  1.19266499, ...,  0.65850911,\n",
              "        -0.19152283, -0.30188624],\n",
              "       [-0.42994445,  0.76540814,  1.41829292, ...,  0.22836165,\n",
              "         0.78693966,  1.50181196],\n",
              "       [ 1.18706707, -1.30649251, -2.42925718, ...,  0.99306823,\n",
              "        -0.75064426, -1.17868397]])"
            ]
          },
          "metadata": {},
          "execution_count": 456
        }
      ]
    },
    {
      "cell_type": "code",
      "source": [
        "logi.fit(X_train, y_train)\n",
        "\n",
        "y_pred_train = logi.predict(X_train)\n",
        "y_pred_test = logi.predict(X_valid)"
      ],
      "metadata": {
        "colab": {
          "base_uri": "https://localhost:8080/"
        },
        "id": "WuM75EypfCHL",
        "outputId": "f858cacb-654c-488b-e46b-eb919aea1eda"
      },
      "execution_count": null,
      "outputs": [
        {
          "output_type": "stream",
          "name": "stderr",
          "text": [
            "/usr/local/lib/python3.8/dist-packages/sklearn/linear_model/_logistic.py:814: ConvergenceWarning: lbfgs failed to converge (status=1):\n",
            "STOP: TOTAL NO. of ITERATIONS REACHED LIMIT.\n",
            "\n",
            "Increase the number of iterations (max_iter) or scale the data as shown in:\n",
            "    https://scikit-learn.org/stable/modules/preprocessing.html\n",
            "Please also refer to the documentation for alternative solver options:\n",
            "    https://scikit-learn.org/stable/modules/linear_model.html#logistic-regression\n",
            "  n_iter_i = _check_optimize_result(\n"
          ]
        }
      ]
    },
    {
      "cell_type": "code",
      "source": [
        "print(f\"F1 Train macro: {f1_score(y_train, y_pred_train, average='macro')}\")\n",
        "print(f\"F1 Test macro: {f1_score(y_valid, y_pred_test, average='macro')}\")\n",
        "print()\n",
        "print(f\"F1 Train micro: {f1_score(y_train, y_pred_train, average='micro')}\")\n",
        "print(f\"F1 Test micro: {f1_score(y_valid, y_pred_test, average='micro')}\")"
      ],
      "metadata": {
        "colab": {
          "base_uri": "https://localhost:8080/"
        },
        "id": "N0nYY29gfFdE",
        "outputId": "2bd62b95-ce69-44fd-a571-2b5b11e83f39"
      },
      "execution_count": null,
      "outputs": [
        {
          "output_type": "stream",
          "name": "stdout",
          "text": [
            "F1 Train macro: 0.6000867998626103\n",
            "F1 Test macro: 0.5949695503522044\n",
            "\n",
            "F1 Train micro: 0.6032294194511854\n",
            "F1 Test micro: 0.5968645016797313\n"
          ]
        }
      ]
    },
    {
      "cell_type": "code",
      "source": [
        "knn_clf.fit(X_train, y_train)\n",
        "\n",
        "knn_y_pred_train = knn_clf.predict(X_train)\n",
        "knn_y_pred_test = knn_clf.predict(X_valid)"
      ],
      "metadata": {
        "id": "7gnEd9q-fH8x"
      },
      "execution_count": null,
      "outputs": []
    },
    {
      "cell_type": "code",
      "source": [
        "print(f\"F1 Train macro: {f1_score(y_train, knn_y_pred_train, average='macro')}\")\n",
        "print(f\"F1 Test macro: {f1_score(y_valid, knn_y_pred_test, average='macro')}\")\n",
        "print()\n",
        "print(f\"F1 Train micro: {f1_score(y_train, knn_y_pred_train, average='micro')}\")\n",
        "print(f\"F1 Test micro: {f1_score(y_valid, knn_y_pred_test, average='micro')}\")"
      ],
      "metadata": {
        "colab": {
          "base_uri": "https://localhost:8080/"
        },
        "id": "MgbHSI6vg2DK",
        "outputId": "76f026d2-75e3-4afa-e3c1-f6528ce669c0"
      },
      "execution_count": null,
      "outputs": [
        {
          "output_type": "stream",
          "name": "stdout",
          "text": [
            "F1 Train macro: 0.6654926168734832\n",
            "F1 Test macro: 0.5780224709886159\n",
            "\n",
            "F1 Train micro: 0.6652977412731006\n",
            "F1 Test micro: 0.5755879059350504\n"
          ]
        }
      ]
    },
    {
      "cell_type": "markdown",
      "source": [
        "Для предсказания в многоклассовой классификации модели справились хуже. Различия в подходах подсчета оказались незнечительными."
      ],
      "metadata": {
        "id": "HVNKLsXhkBxy"
      }
    },
    {
      "cell_type": "code",
      "source": [],
      "metadata": {
        "id": "lth-AMA7k6oI"
      },
      "execution_count": null,
      "outputs": []
    }
  ]
}